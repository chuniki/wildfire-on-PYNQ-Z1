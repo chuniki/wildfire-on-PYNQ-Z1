{
 "cells": [
  {
   "cell_type": "markdown",
   "id": "bb7919e8",
   "metadata": {},
   "source": [
    "# Evaluate Stitched IP\n",
    "\n",
    "Evaluate the Stitched_IP with RTL simulation. It takes a lot of time to test 1 example, so use it with very few representative examples.\n",
    "\n",
    "If follows this [FINN repo](https://github.com/Xilinx/finn/blob/main/src/finn/builder/build_dataflow_steps.py#L220) function:\n",
    "```python\n",
    "def prepare_for_stitched_ip_rtlsim(verify_model, cfg)\n",
    "```"
   ]
  },
  {
   "cell_type": "code",
   "execution_count": null,
   "id": "26c80aa1-b7d3-4682-90e0-ebdd219a0d1a",
   "metadata": {},
   "outputs": [],
   "source": [
    "import os\n",
    "\n",
    "import numpy as np\n",
    "from qonnx.core.modelwrapper import ModelWrapper\n",
    "\n",
    "import finn.core.onnx_exec as oxe\n",
    "\n",
    "from qonnx.custom_op.registry import getCustomOp\n",
    "\n",
    "from finn.util.basic import pynq_part_map\n",
    "import pandas as pd\n",
    "\n",
    "from finn.transformation.fpgadataflow.prepare_ip import PrepareIP\n",
    "from finn.transformation.fpgadataflow.hlssynth_ip import HLSSynthIP\n",
    "from finn.transformation.fpgadataflow.create_stitched_ip import CreateStitchedIP\n",
    "\n",
    "from finn.transformation.fpgadataflow.set_exec_mode import SetExecMode\n",
    "from finn.transformation.fpgadataflow.prepare_rtlsim import PrepareRTLSim\n",
    "\n",
    "from finn.transformation.fpgadataflow.annotate_cycles import AnnotateCycles\n",
    "from finn.analysis.fpgadataflow.dataflow_performance import dataflow_performance\n",
    "from finn.util.basic import (\n",
    "    get_rtlsim_trace_depth,\n",
    "    pyverilate_get_liveness_threshold_cycles,\n",
    ")"
   ]
  },
  {
   "cell_type": "markdown",
   "id": "b27c6176-c69a-4ae8-9dc0-ce6f5a756ffc",
   "metadata": {},
   "source": [
    "# Setup Folders and Model Filenames"
   ]
  },
  {
   "cell_type": "code",
   "execution_count": null,
   "id": "692939c2-7254-4103-9981-d3ae9b8fd24e",
   "metadata": {},
   "outputs": [],
   "source": [
    "experiment_folder = ('./experiments'\n",
    "                     + '/750_FPS'\n",
    "                     + '/01_full_build'\n",
    "                     + '/output_full_build')\n",
    "model_folder = experiment_folder + '/intermediate_models'\n",
    "\n",
    "qonnx_to_finn = model_folder + '/custom_step_add_pre_proc.onnx'\n",
    "\n",
    "stitched_ip = model_folder + '/step_create_stitched_ip.onnx'\n",
    "parent_model = model_folder + '/dataflow_parent.onnx'\n",
    "\n",
    "stitched_rtlsim_filename = \"./eval_stitched_ip/stitched_rtlsim.onnx\""
   ]
  },
  {
   "cell_type": "markdown",
   "id": "3e2aa7be-9e44-4ec5-86a7-3df5f66c2da7",
   "metadata": {},
   "source": [
    "# Function to prepare model for RTLSim\n",
    "\n",
    "FIFOs impl_style from \"vivado\" to \"rtl\""
   ]
  },
  {
   "cell_type": "code",
   "execution_count": null,
   "id": "15ceef85-4519-4b7a-a484-43acd47e0752",
   "metadata": {},
   "outputs": [],
   "source": [
    "def prepare_for_stitched_ip_rtlsim(verify_model, fpga_part, target_clk_ns):\n",
    "    need_restitch = False\n",
    "    # switch impl_style=vivado components to rtl\n",
    "    # StreamingFIFO must have impl_style=rtl\n",
    "    for fifo_layer in verify_model.get_nodes_by_op_type(\"StreamingFIFO_rtl\"):\n",
    "        inst = getCustomOp(fifo_layer)\n",
    "        if inst.get_nodeattr(\"impl_style\") != \"rtl\":\n",
    "            inst.set_nodeattr(\"impl_style\", \"rtl\")\n",
    "            inst.set_nodeattr(\"code_gen_dir_ipgen\", \"\")\n",
    "            inst.set_nodeattr(\"ipgen_path\", \"\")\n",
    "            print(f'{fifo_layer.name} changed to RTL')\n",
    "            need_restitch = True\n",
    "    # if we've made alterations to the model, need to do some re-prep\n",
    "    if need_restitch:\n",
    "        print(\"Need to regen/re-stitch some IP for STITCHED_IP_RTLSIM\")\n",
    "        verify_model = verify_model.transform(\n",
    "            PrepareIP(fpga_part, target_clk_ns)\n",
    "        )\n",
    "        verify_model = verify_model.transform(HLSSynthIP())\n",
    "        verify_model = verify_model.transform(\n",
    "            CreateStitchedIP(\n",
    "                fpga_part,\n",
    "                target_clk_ns,\n",
    "                vitis=False,\n",
    "            )\n",
    "        )\n",
    "  \n",
    "    # set top-level prop for stitched-ip rtlsim and launch\n",
    "    verify_model.set_metadata_prop(\"exec_mode\", \"rtlsim\")\n",
    "    # TODO make configurable\n",
    "    # verify_model.set_metadata_prop(\"rtlsim_trace\", \"trace.vcd\")\n",
    "    return verify_model"
   ]
  },
  {
   "cell_type": "markdown",
   "id": "86ac4fbd-65d7-446f-b30b-7e2cae042db8",
   "metadata": {},
   "source": [
    "# PYNQ Boards Available"
   ]
  },
  {
   "cell_type": "code",
   "execution_count": null,
   "id": "7087d4ae-fc64-46b4-b303-1744450e3097",
   "metadata": {},
   "outputs": [],
   "source": [
    "fpga_df = pd.DataFrame(pynq_part_map.items(), columns=['Board', 'FPGA Part'])\n",
    "fpga_df"
   ]
  },
  {
   "cell_type": "code",
   "execution_count": null,
   "id": "d73a32da-9129-42ae-86e7-0bde19387dbf",
   "metadata": {},
   "outputs": [],
   "source": [
    "# change this if you have a different PYNQ board, see list above\n",
    "pynq_board = \"Pynq-Z1\"\n",
    "fpga_part = pynq_part_map[pynq_board]\n",
    "print(fpga_part)"
   ]
  },
  {
   "cell_type": "code",
   "execution_count": null,
   "id": "9047e859-c1cc-4f49-96fc-37301a9b9602",
   "metadata": {},
   "outputs": [],
   "source": [
    "synth_clk_period_ns = 10.0"
   ]
  },
  {
   "cell_type": "markdown",
   "id": "a8dc0204-7157-43ed-8e19-ff0a98388108",
   "metadata": {},
   "source": [
    "# Create New Stitched IP with impl_style = \"rtl\"\n",
    "\n",
    "It takes a long time to finish. Only needed the first time, to create the new stitched IP. Once it is created, this step can be skipped."
   ]
  },
  {
   "cell_type": "code",
   "execution_count": null,
   "id": "602e0de0-2917-4df3-83e0-59e6d74583d8",
   "metadata": {},
   "outputs": [],
   "source": [
    "# child_model = ModelWrapper(stitched_ip)\n",
    "\n",
    "# child_model = prepare_for_stitched_ip_rtlsim(child_model, fpga_part, synth_clk_period_ns)\n",
    "\n",
    "# child_model = child_model.transform(PrepareRTLSim())\n",
    "# child_model.save(stitched_rtlsim_filename)"
   ]
  },
  {
   "cell_type": "markdown",
   "id": "e8e2c564-9852-4f0f-b6c1-7cfe61cdef09",
   "metadata": {},
   "source": [
    "# Load Parent Model and link Partition (Child) to Stitched IP for RTLSim"
   ]
  },
  {
   "cell_type": "code",
   "execution_count": null,
   "id": "b5695a7e-c972-463c-9d6f-4239c70a0acc",
   "metadata": {},
   "outputs": [],
   "source": [
    "# parent model\n",
    "model_for_rtlsim = ModelWrapper(parent_model)\n",
    "# reference child model\n",
    "sdp_node = getCustomOp(model_for_rtlsim.graph.node[1])\n",
    "sdp_node.set_nodeattr(\"model\", stitched_rtlsim_filename)"
   ]
  },
  {
   "cell_type": "markdown",
   "id": "5a9d6a07-132a-4c5d-aaef-6db514a17021",
   "metadata": {},
   "source": [
    "# LIVENESS_THRESHOLD \n",
    "\n",
    "Adjust it to model Max Cycles -> Critical Path."
   ]
  },
  {
   "cell_type": "code",
   "execution_count": null,
   "id": "92a9adea-0d07-42a0-b035-f4272b3d474d",
   "metadata": {},
   "outputs": [],
   "source": [
    "stiched_rtlsim_model = ModelWrapper(stitched_rtlsim_filename)\n",
    "stiched_rtlsim_model = stiched_rtlsim_model.transform(AnnotateCycles())\n",
    "estimate_network_performance = stiched_rtlsim_model.analysis(dataflow_performance)\n",
    "prev_liveness = pyverilate_get_liveness_threshold_cycles()"
   ]
  },
  {
   "cell_type": "code",
   "execution_count": null,
   "id": "032d9c2c-5f2f-4f51-9522-28e0aa5d0dc6",
   "metadata": {},
   "outputs": [],
   "source": [
    "print(f'Previous LIVENESS_THRESHOLD = {prev_liveness}')\n",
    "print(f'Estimated performance of Stuched_RTLSim\\n{estimate_network_performance}')"
   ]
  },
  {
   "cell_type": "code",
   "execution_count": null,
   "id": "f44b9ba7-76dc-4338-a2e5-bace8ef83ded",
   "metadata": {},
   "outputs": [],
   "source": [
    "os.environ[\"LIVENESS_THRESHOLD\"] = str(\n",
    "    int(estimate_network_performance[\"critical_path_cycles\"])\n",
    ")\n",
    "\n",
    "# Change it to previuous value\n",
    "#os.environ[\"LIVENESS_THRESHOLD\"] = str(prev_liveness)"
   ]
  },
  {
   "cell_type": "code",
   "execution_count": null,
   "id": "f5257390-2a92-4805-b313-800568ba5419",
   "metadata": {},
   "outputs": [],
   "source": [
    "print(os.environ[\"LIVENESS_THRESHOLD\"])"
   ]
  },
  {
   "cell_type": "markdown",
   "id": "cb30001d-08eb-49d6-91e5-80c640bc9bbd",
   "metadata": {},
   "source": [
    "# Eval with DFire MINI"
   ]
  },
  {
   "cell_type": "markdown",
   "id": "7f20d4fc-35c5-4f61-a4ed-6e85d9ba97a4",
   "metadata": {},
   "source": [
    "### MINI Dataset"
   ]
  },
  {
   "cell_type": "code",
   "execution_count": null,
   "id": "40007973-6b3d-4884-89eb-ac86a57c3190",
   "metadata": {},
   "outputs": [],
   "source": [
    "DS_FOLDER_MINI = '../../datasets/dfire_mini/'\n",
    "#### Needed for DatasetMINI\n",
    "DS_FOLDER_MINI += 'test/'\n",
    "\n",
    "DS_IMGS_MINI = DS_FOLDER_MINI + 'images/'\n",
    "DS_LABELS_MINI = DS_FOLDER_MINI + 'labels/'"
   ]
  },
  {
   "cell_type": "code",
   "execution_count": null,
   "id": "42387759-9bfc-4673-a80b-dedfa184f676",
   "metadata": {},
   "outputs": [],
   "source": [
    "MINI_IMGS_LIST = sorted([DS_IMGS_MINI + img_file for img_file in os.listdir(DS_IMGS_MINI)])"
   ]
  },
  {
   "cell_type": "code",
   "execution_count": null,
   "id": "848c577e-5202-4b80-9487-98dd58621fc5",
   "metadata": {},
   "outputs": [],
   "source": [
    "print(f'Number of test samples: {len(MINI_IMGS_LIST)}')"
   ]
  },
  {
   "cell_type": "code",
   "execution_count": null,
   "id": "52ca89ab-3a7f-401b-bcc8-b266498c2d56",
   "metadata": {},
   "outputs": [],
   "source": [
    "import my_metrics as metrics"
   ]
  },
  {
   "cell_type": "markdown",
   "id": "beddced0-e1dc-4d2f-9fb5-bf9b9ba1b9f5",
   "metadata": {},
   "source": [
    "### Eval QONNX TO FINN model"
   ]
  },
  {
   "cell_type": "code",
   "execution_count": null,
   "id": "50802f9e-95dc-4dca-8512-692df862d9b7",
   "metadata": {},
   "outputs": [],
   "source": [
    "qonnx_to_finn_model = ModelWrapper(qonnx_to_finn)"
   ]
  },
  {
   "cell_type": "markdown",
   "id": "6a6483c7-5a77-4c82-8ac3-cc59045a413d",
   "metadata": {},
   "source": [
    "### MINI"
   ]
  },
  {
   "cell_type": "code",
   "execution_count": null,
   "id": "ee10da2e-ee01-4e60-9c4e-cf1174d985e8",
   "metadata": {},
   "outputs": [],
   "source": [
    "qonnx_to_finn_metrics_MINI = metrics.eval_quant_onnx(\n",
    "    imgs_list = MINI_IMGS_LIST,\n",
    "    labels_dir = DS_LABELS_MINI,\n",
    "    model_wrapped = qonnx_to_finn_model,\n",
    "    bipolar=True,\n",
    "    divide_255=False) # Preprocess included"
   ]
  },
  {
   "cell_type": "code",
   "execution_count": null,
   "id": "29c248f7-0ce0-44d5-86ab-f5d2945cdb4b",
   "metadata": {},
   "outputs": [],
   "source": [
    "qonnx_to_finn_MINI_df = pd.DataFrame(qonnx_to_finn_metrics_MINI)\n",
    "qonnx_to_finn_MINI_df"
   ]
  },
  {
   "cell_type": "markdown",
   "id": "46e4b014-9814-4d25-a65f-5886fd9082a7",
   "metadata": {},
   "source": [
    "### Eval Stitched IP model"
   ]
  },
  {
   "cell_type": "code",
   "execution_count": null,
   "id": "3a6b8ae3-3a97-4f22-b5ca-f21c0e71f8d1",
   "metadata": {},
   "outputs": [],
   "source": [
    "stitched_metrics = metrics.eval_quant_onnx(\n",
    "    imgs_list = IMGS_LIST,\n",
    "    labels_dir = DS_LABELS,\n",
    "    model_wrapped = model_for_rtlsim,\n",
    "    bipolar=True,\n",
    "    divide_255=False) # Preprocess included in FINN model"
   ]
  },
  {
   "cell_type": "markdown",
   "id": "fde95bfe-d026-4df2-9aea-aeab47f1923c",
   "metadata": {},
   "source": [
    "# Print Results"
   ]
  },
  {
   "cell_type": "code",
   "execution_count": null,
   "id": "85c35748-2934-4298-be2a-addc8aaf2cb2",
   "metadata": {},
   "outputs": [],
   "source": [
    "qonnx_to_finn_df = pd.DataFrame(qonnx_to_finn_metrics)\n",
    "qonnx_to_finn_df"
   ]
  },
  {
   "cell_type": "code",
   "execution_count": null,
   "id": "f1ad82c8-9c89-40f8-83fb-98a91051e92e",
   "metadata": {},
   "outputs": [],
   "source": [
    "stitched_df = pd.DataFrame(stitched_metrics)\n",
    "stitched_df"
   ]
  },
  {
   "cell_type": "code",
   "execution_count": null,
   "id": "93b52472-7460-47c3-9a16-452a4c839f63",
   "metadata": {},
   "outputs": [],
   "source": []
  }
 ],
 "metadata": {
  "kernelspec": {
   "display_name": "Python 3 (ipykernel)",
   "language": "python",
   "name": "python3"
  },
  "language_info": {
   "codemirror_mode": {
    "name": "ipython",
    "version": 3
   },
   "file_extension": ".py",
   "mimetype": "text/x-python",
   "name": "python",
   "nbconvert_exporter": "python",
   "pygments_lexer": "ipython3",
   "version": "3.9.18"
  },
  "varInspector": {
   "cols": {
    "lenName": 16,
    "lenType": 16,
    "lenVar": 40
   },
   "kernels_config": {
    "python": {
     "delete_cmd_postfix": "",
     "delete_cmd_prefix": "del ",
     "library": "var_list.py",
     "varRefreshCmd": "print(var_dic_list())"
    },
    "r": {
     "delete_cmd_postfix": ") ",
     "delete_cmd_prefix": "rm(",
     "library": "var_list.r",
     "varRefreshCmd": "cat(var_dic_list()) "
    }
   },
   "types_to_exclude": [
    "module",
    "function",
    "builtin_function_or_method",
    "instance",
    "_Feature"
   ],
   "window_display": false
  }
 },
 "nbformat": 4,
 "nbformat_minor": 5
}
