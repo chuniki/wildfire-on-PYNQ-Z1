{
 "cells": [
  {
   "cell_type": "markdown",
   "id": "6f1d09a3",
   "metadata": {},
   "source": [
    "# Make Verilog Testbench\n",
    "\n",
    "This notebook is based on what is explained in [Finn Verilog](https://github.com/Xilinx/finn/blob/main/tutorials/fpga_flow/README.md). It allows to generate batches to test the model and take care of dimensions of .dat files."
   ]
  },
  {
   "cell_type": "code",
   "execution_count": null,
   "id": "2f0d7eb6-3146-4afc-a97a-b5f05eac7be4",
   "metadata": {},
   "outputs": [],
   "source": [
    "import numpy as np\n",
    "import os\n",
    "\n",
    "from qonnx.core.modelwrapper import ModelWrapper\n",
    "\n",
    "from qonnx.custom_op.registry import getCustomOp\n",
    "\n",
    "import finn.builder.build_dataflow as build\n",
    "import finn.builder.build_dataflow_config as build_cfg\n",
    "import finn.util.data_packing as dpk\n",
    "from qonnx.core.datatype import DataType"
   ]
  },
  {
   "cell_type": "code",
   "execution_count": null,
   "id": "01433877-e5f7-4e36-9f4c-ade81aef92df",
   "metadata": {},
   "outputs": [],
   "source": [
    "from pathlib import Path\n",
    "import cv2\n",
    "import my_metrics as metrics\n",
    "import matplotlib.pyplot as plt"
   ]
  },
  {
   "cell_type": "markdown",
   "id": "ebbde44e-342a-44de-882a-14c7a255eb3f",
   "metadata": {},
   "source": [
    "# Load Image and Label"
   ]
  },
  {
   "cell_type": "code",
   "execution_count": null,
   "id": "0c3299e2-8917-44b6-b3f9-c84cf0e3f9ff",
   "metadata": {},
   "outputs": [],
   "source": [
    "def get_label(label_file):\n",
    "    '''\n",
    "    Receives a txt file and returns the label associated, as [smoke?, fire?]\n",
    "    '''\n",
    "    label_array = np.zeros((2))\n",
    "    \n",
    "    with open(label_file) as f:\n",
    "        lines = f.readlines()\n",
    "        for line in lines:\n",
    "            class_id, _, _, _, _ = line.strip().split()\n",
    "            class_id = int(class_id)\n",
    "            if np.array_equal(label_array, np.array([1, 1])):\n",
    "                break\n",
    "            else:\n",
    "                label_array[class_id] = 1.\n",
    "\n",
    "    label_array = np.expand_dims(label_array, axis=0)\n",
    "\n",
    "    return label_array    "
   ]
  },
  {
   "cell_type": "code",
   "execution_count": null,
   "id": "1ff87015-84f8-4274-9def-5f2f28732dde",
   "metadata": {},
   "outputs": [],
   "source": [
    "def load_image_and_label(img_file, labels_dir):\n",
    "    '''\n",
    "    Receives image and label files and returns the image ready for FINN and corresponding label   \n",
    "    '''\n",
    "    img = cv2.imread(img_file)\n",
    "    img = cv2.cvtColor(img, cv2.COLOR_BGR2RGB)  \n",
    "    img = cv2.resize(img, (224, 224), interpolation = cv2.INTER_LINEAR)\n",
    "    img = img.copy().astype(np.float32)    \n",
    "    img = np.expand_dims(img, axis=0)\n",
    "\n",
    "    img_name = Path(img_file).stem\n",
    "    label_file = labels_dir + img_name + '.txt'\n",
    "    label = get_label(label_file)\n",
    "\n",
    "    return img, label"
   ]
  },
  {
   "cell_type": "markdown",
   "id": "f7fcacd1-51c2-4f17-9eb0-6ba3eb76e918",
   "metadata": {},
   "source": [
    "### Images and Labels Folders"
   ]
  },
  {
   "cell_type": "code",
   "execution_count": null,
   "id": "97487a5f-33fe-4014-b2ec-b992b9e18214",
   "metadata": {},
   "outputs": [],
   "source": [
    "DS_FOLDER = '../../datasets/dfire_mini/'\n",
    "DS_FOLDER += 'test/'\n",
    "\n",
    "DS_IMGS = DS_FOLDER + 'images/'\n",
    "DS_LABELS = DS_FOLDER + 'labels/'"
   ]
  },
  {
   "cell_type": "code",
   "execution_count": null,
   "id": "cd3b0a9a-a603-48a4-8e1e-b37331fad326",
   "metadata": {},
   "outputs": [],
   "source": [
    "IMGS_LIST = sorted([DS_IMGS + img_file for img_file in os.listdir(DS_IMGS)])"
   ]
  },
  {
   "cell_type": "code",
   "execution_count": null,
   "id": "40c7f9e1-fe4a-4781-a04c-b5651d54dfd4",
   "metadata": {},
   "outputs": [],
   "source": [
    "print(IMGS_LIST[10])"
   ]
  },
  {
   "cell_type": "markdown",
   "id": "fb0dfb5a-97e3-46e4-a420-c1c62a99bac9",
   "metadata": {},
   "source": [
    "### Load Test Image and Label\n",
    "\n",
    "IMG_BATCH controls if model is tested with only 1 image or with a batch of images. If a batch is choosen, images must be concatenated."
   ]
  },
  {
   "cell_type": "code",
   "execution_count": null,
   "id": "84591ae3-fd8d-434e-95a1-f569aa1fc21a",
   "metadata": {},
   "outputs": [],
   "source": [
    "IMG_BATCH = True\n",
    "\n",
    "### TEST\n",
    "test_img_list = [IMGS_LIST[2], IMGS_LIST[9], IMGS_LIST[12], IMGS_LIST[14],\n",
    "                 IMGS_LIST[18], IMGS_LIST[19], IMGS_LIST[24], IMGS_LIST[27]]\n",
    "\n",
    "if not IMG_BATCH:\n",
    "    npy_img, npy_label = load_image_and_label(\n",
    "        img_file=test_img, \n",
    "        labels_dir=DS_LABELS)\n",
    "else:\n",
    "    npy_img, npy_label = load_image_and_label(\n",
    "        img_file=test_img_list[0], \n",
    "        labels_dir=DS_LABELS)\n",
    "    for i in range(len(test_img_list)):\n",
    "        if i != 0:\n",
    "            i_npy_img, i_npy_label = load_image_and_label(\n",
    "                img_file=test_img_list[i], \n",
    "                labels_dir=DS_LABELS)\n",
    "            npy_img = np.concatenate((npy_img, i_npy_img))\n",
    "            npy_label = np.concatenate((npy_label, i_npy_label))    "
   ]
  },
  {
   "cell_type": "code",
   "execution_count": null,
   "id": "9f3b8fd2-23c9-41e8-84ad-b5e7582ef247",
   "metadata": {},
   "outputs": [],
   "source": [
    "print(f'Image shape = {npy_img.shape}')\n",
    "print(f'Image data type = {npy_img.dtype}')\n",
    "\n",
    "print(f'Label shape = {npy_label.shape}')\n",
    "print(f'Label data type = {npy_img.dtype}')"
   ]
  },
  {
   "cell_type": "markdown",
   "id": "0792526d-d478-4d73-80a8-9ec01668f1be",
   "metadata": {},
   "source": [
    "### Plot Image"
   ]
  },
  {
   "cell_type": "code",
   "execution_count": null,
   "id": "7ba49c6d-5d3c-4d3a-b7b3-225da023786b",
   "metadata": {},
   "outputs": [],
   "source": [
    "fig, ax = plt.subplots(figsize=(3,3))\n",
    "\n",
    "ax.imshow(npy_img[3]/255.)\n",
    "plt.show()"
   ]
  },
  {
   "cell_type": "markdown",
   "id": "f8fa5abd-9f37-437e-9e54-7017251264f2",
   "metadata": {},
   "source": [
    "### Template and Build folders\n",
    "\n",
    "Use templates provided by Xilinx:\n",
    "\n",
    "https://github.com/Xilinx/finn/tree/main/tutorials/fpga_flow/templates"
   ]
  },
  {
   "cell_type": "markdown",
   "id": "dbc40fb6-bbbc-48de-a436-ac79cfb54be3",
   "metadata": {},
   "source": [
    "#### 750 FPS"
   ]
  },
  {
   "cell_type": "code",
   "execution_count": null,
   "id": "66bff96d-f6e6-415e-b723-36ad2bde24b0",
   "metadata": {},
   "outputs": [],
   "source": [
    "verilog_stitched_folder = './verilog_stitched_sim/750_FPS'\n",
    "template_folder = './verilog_stitched_sim/templates'\n",
    "build_folder = ('./experiments' \n",
    "               + '/750_FPS'\n",
    "               + '/02_full_build_vvau_lut_hls_mvau_hls'\n",
    "               + '/output_full_build')\n",
    "sim_output_dir = build_folder + \"/sim\"\n",
    "\n",
    "if not os.path.isdir(sim_output_dir):\n",
    "    print(f'Creating {sim_output_dir}')\n",
    "    os.makedirs(sim_output_dir)"
   ]
  },
  {
   "cell_type": "markdown",
   "id": "597da63f-7540-43ad-92ea-70143fc53f43",
   "metadata": {},
   "source": [
    "#### 30 FPS"
   ]
  },
  {
   "cell_type": "code",
   "execution_count": null,
   "id": "2681513a-700f-4e0c-9a48-b94c05803a48",
   "metadata": {},
   "outputs": [],
   "source": [
    "# verilog_stitched_folder = './verilog_stitched_sim/30_FPS'\n",
    "# template_folder = './verilog_stitched_sim/templates'\n",
    "# build_folder = ('./experiments_CLK' \n",
    "#                + '/30_FPS_CLK_200ns'\n",
    "#                + '/03_full_build_final_mvau_hls'\n",
    "#                + '/output_full_build')"
   ]
  },
  {
   "cell_type": "markdown",
   "id": "0934db99-c2e7-4d3f-a194-d624f7c308a1",
   "metadata": {},
   "source": [
    "#### 5 FPS"
   ]
  },
  {
   "cell_type": "code",
   "execution_count": null,
   "id": "f071cd32-b683-46b9-9853-ea0ab0bc9c2d",
   "metadata": {},
   "outputs": [],
   "source": [
    "# verilog_stitched_folder = './verilog_stitched_sim/05_FPS'\n",
    "# template_folder = './verilog_stitched_sim/templates'\n",
    "# build_folder = ('./experiments_CLK' \n",
    "#                + '/1_FPS_CLK_1us'\n",
    "#                + '/04_full_build_final_mvau_hls'\n",
    "#                + '/output_full_build')"
   ]
  },
  {
   "cell_type": "markdown",
   "id": "528e25cb-4847-4451-80d6-298ea7700206",
   "metadata": {},
   "source": [
    "### Filenames"
   ]
  },
  {
   "cell_type": "code",
   "execution_count": null,
   "id": "24704234-accd-470d-9d38-b666943ba09b",
   "metadata": {},
   "outputs": [],
   "source": [
    "inp_fname = '/input'\n",
    "expected_oup_fname = '/expected_output'\n",
    "\n",
    "inp_npy_fname = inp_fname + '.npy'\n",
    "expected_oup_npy_fname = expected_oup_fname + '.npy'\n",
    "\n",
    "inp_dat_fname = inp_fname + '.dat'\n",
    "expected_oup_dat_fname = expected_oup_fname + '.dat'"
   ]
  },
  {
   "cell_type": "code",
   "execution_count": null,
   "id": "47b3749c-ef45-4be2-8da3-5fede64fc9b5",
   "metadata": {},
   "outputs": [],
   "source": [
    "print(inp_npy_fname, \"\\n\", expected_oup_npy_fname)\n",
    "print(inp_dat_fname, \"\\n\", expected_oup_dat_fname)"
   ]
  },
  {
   "cell_type": "markdown",
   "id": "7d482443-00f5-4ddc-b9aa-fef79be51947",
   "metadata": {},
   "source": [
    "### Save Numpy files"
   ]
  },
  {
   "cell_type": "code",
   "execution_count": null,
   "id": "f40ccd09-ecdb-44f6-b80b-2715d8517de0",
   "metadata": {},
   "outputs": [],
   "source": [
    "np.save(verilog_stitched_folder + inp_npy_fname, npy_img)\n",
    "np.save(verilog_stitched_folder + expected_oup_npy_fname, npy_label)"
   ]
  },
  {
   "cell_type": "markdown",
   "id": "d717c07f-7a5a-4dc2-9142-14b36c6575bf",
   "metadata": {},
   "source": [
    "### Load Numpy files to check"
   ]
  },
  {
   "cell_type": "code",
   "execution_count": null,
   "id": "a292d16d-8262-4c26-a980-3d570ef0ea02",
   "metadata": {},
   "outputs": [],
   "source": [
    "inp_check = np.load(verilog_stitched_folder + inp_npy_fname)\n",
    "oup_check = np.load(verilog_stitched_folder + expected_oup_npy_fname)"
   ]
  },
  {
   "cell_type": "code",
   "execution_count": null,
   "id": "7bc39f12-3274-4d8c-a503-19340a838208",
   "metadata": {},
   "outputs": [],
   "source": [
    "print(f'Input shape: {inp_check.shape}')\n",
    "print(f'Input type: {inp_check.dtype}')\n",
    "\n",
    "print(oup_check.shape)"
   ]
  },
  {
   "cell_type": "code",
   "execution_count": null,
   "id": "50aa79f6-db5f-423d-b6c4-ea22c213f7c7",
   "metadata": {},
   "outputs": [],
   "source": [
    "fig, ax = plt.subplots(figsize=(3,3))\n",
    "\n",
    "ax.imshow(inp_check[0]/255.)\n",
    "plt.show()"
   ]
  },
  {
   "cell_type": "markdown",
   "id": "6285efaf-7347-46ec-be3d-a62159f1f17c",
   "metadata": {},
   "source": [
    "# Step by Step generation of files"
   ]
  },
  {
   "cell_type": "markdown",
   "id": "c9073f05-c611-4b7c-af62-2ed75efb78b9",
   "metadata": {},
   "source": [
    "### Image data to input.dat"
   ]
  },
  {
   "cell_type": "code",
   "execution_count": null,
   "id": "c251936e-6c9a-4080-921c-26a8ea32d610",
   "metadata": {},
   "outputs": [],
   "source": [
    "# Model and Stitched folder\n",
    "model_filename = build_folder + \"/intermediate_models/step_create_stitched_ip.onnx\"\n",
    "model = ModelWrapper(model_filename)\n",
    "\n",
    "# load the provided input data\n",
    "inp_data = np.load(verilog_stitched_folder + inp_npy_fname)\n",
    "batchsize = inp_data.shape[0]\n",
    "print(f'Batch size: {batchsize}')"
   ]
  },
  {
   "cell_type": "code",
   "execution_count": null,
   "id": "fd02858d-2f28-4163-b21f-f70e81202b46",
   "metadata": {},
   "outputs": [],
   "source": [
    "# query the parallelism-dependent folded input shape from the\n",
    "# node consuming the graph input\n",
    "inp_name = model.graph.input[0].name\n",
    "inp_node = getCustomOp(model.find_consumer(inp_name))\n",
    "inp_shape_folded = list(inp_node.get_folded_input_shape())\n",
    "\n",
    "print(f'Input shape folded: {inp_shape_folded}')\n",
    "\n",
    "inp_stream_width = inp_node.get_instream_width_padded()\n",
    "\n",
    "print(f'Input stream width: {inp_stream_width}')"
   ]
  },
  {
   "cell_type": "code",
   "execution_count": null,
   "id": "70e13c67-91f2-4f6d-80b9-9dee2520bca3",
   "metadata": {},
   "outputs": [],
   "source": [
    "# # fix first dimension (N: batch size) to correspond to input data\n",
    "# # since FINN model itself always uses N=1\n",
    "inp_shape_folded[0] = batchsize\n",
    "inp_shape_folded = tuple(inp_shape_folded)\n",
    "inp_dtype = model.get_tensor_datatype(inp_name)\n",
    "print(f'Input data type: {inp_dtype}')\n",
    "# now re-shape input data into the folded shape and do hex packing\n",
    "inp_data = inp_data.reshape(inp_shape_folded)\n",
    "\n",
    "print(f'Input data after folded reshape: {inp_data.shape}')"
   ]
  },
  {
   "cell_type": "code",
   "execution_count": null,
   "id": "c05efc2e-7238-473d-a314-de4fe2a6345b",
   "metadata": {},
   "outputs": [],
   "source": [
    "inp_data_packed = dpk.pack_innermost_dim_as_hex_string(\n",
    "    inp_data, inp_dtype, inp_stream_width, prefix=\"\", reverse_inner=True\n",
    ")\n",
    "\n",
    "print(f'Input data packed: {inp_data_packed.shape}')\n",
    "# print(inp_data_packed)"
   ]
  },
  {
   "cell_type": "code",
   "execution_count": null,
   "id": "cea3cb65-dd66-4e81-b5a8-1cca9a805a3e",
   "metadata": {},
   "outputs": [],
   "source": [
    "if not IMG_BATCH:\n",
    "    inp_data_packed = np.squeeze(inp_data_packed)\n",
    "    print(f'Input data packed after squeeze: {inp_data_packed.shape}')\n",
    "else:\n",
    "    # np.savetxt cannot save arrays of more than 2D, so data must be reshaped\n",
    "    inp_data_packed = np.reshape(inp_data_packed, (1, -1, inp_data_packed.shape[2]))  \n",
    "    inp_data_packed = np.squeeze(inp_data_packed)\n",
    "    print(f'Input data packed after reshape: {inp_data_packed.shape}')\n",
    "\n",
    "np.savetxt(verilog_stitched_folder + inp_dat_fname, inp_data_packed, fmt=\"%s\", delimiter=\"\\n\")"
   ]
  },
  {
   "cell_type": "markdown",
   "id": "c6015984-a84e-4c45-a64b-8d17133ce941",
   "metadata": {},
   "source": [
    "### Label to out.dat"
   ]
  },
  {
   "cell_type": "code",
   "execution_count": null,
   "id": "e452f0e1-d030-46e8-a4ac-e2e73f1cf922",
   "metadata": {},
   "outputs": [],
   "source": [
    "# load expected output and calculate folded shape\n",
    "exp_out = np.load(verilog_stitched_folder + expected_oup_npy_fname)    \n",
    "out_name = model.graph.output[0].name\n",
    "out_node = getCustomOp(model.find_producer(out_name))\n",
    "out_shape_folded = list(out_node.get_folded_output_shape())\n",
    "out_stream_width = out_node.get_outstream_width_padded()\n",
    "print(f'Out stream width: {out_stream_width}')\n",
    "out_shape_folded[0] = batchsize\n",
    "out_shape_folded = tuple(out_shape_folded)\n",
    "print(f'Out shape folded: {out_shape_folded}')\n",
    "out_dtype = model.get_tensor_datatype(out_name)\n",
    "print(f'Out data type: {out_dtype}')\n",
    "exp_out = exp_out.reshape(out_shape_folded)\n",
    "out_data_packed = dpk.pack_innermost_dim_as_hex_string(\n",
    "    exp_out, out_dtype, out_stream_width, prefix=\"\", reverse_inner=True\n",
    ")\n",
    "np.savetxt(\n",
    "    verilog_stitched_folder + expected_oup_dat_fname,\n",
    "    out_data_packed,\n",
    "    fmt=\"%s\",\n",
    "    delimiter=\"\\n\",\n",
    ")"
   ]
  },
  {
   "cell_type": "markdown",
   "id": "c3f35b69-6c4e-4c2b-b6ff-f2bc471f463d",
   "metadata": {},
   "source": [
    "### Testbench file\n",
    "\n",
    "As the model output is Bipolar, some minor changes must be applied to the ```finn_testbench.sv``` file generated:\n",
    "\n",
    "- When dout_tdata is used, it must be changed to dout_tdata[0].\n",
    "- The same for [rd_ptr][0]\n",
    "\n",
    "Below the code with the changes:\n",
    "```\n",
    "if (dout_tdata[0] !== exp_output_data[rd_ptr][0]) begin\n",
    "  $display(\"ERR: Data mismatch %h != %h \",dout_tdata[0], exp_output_data[rd_ptr][0]);\n",
    "  err_count++;\n",
    "end else begin\n",
    "  $display(\"CHK: Data    match %h == %h   --> %0d\",dout_tdata[0], exp_output_data[rd_ptr][0], data_count);\n",
    "```\n",
    "\n",
    "It helps adding a simple constraint file to Vivado project, so there is a clock in the design and power estimate can be performed with SAIF files for switching activity. Below an example for 5 MHz clock:\n",
    "```\n",
    "create_clock -name ap_clk -period 200.000 [get_ports ap_clk]\n",
    "```\n",
    "\n",
    "If the constraint file is added, ```finn_testbench.sv``` clock must be changed accordingly:\n",
    "```\n",
    "always #100ns ap_clk = !ap_clk; //30FPS -> clock is 5MHz\n",
    "```"
   ]
  },
  {
   "cell_type": "code",
   "execution_count": null,
   "id": "e8888acd-abc2-42c2-bc34-7b3ed83d879d",
   "metadata": {},
   "outputs": [],
   "source": [
    "# fill in testbench template\n",
    "with open(template_folder + \"/finn_testbench.template.sv\", \"r\") as f:\n",
    "    testbench_sv = f.read()\n",
    "testbench_sv = testbench_sv.replace(\"@N_SAMPLES@\", str(batchsize))\n",
    "testbench_sv = testbench_sv.replace(\"@IN_STREAM_BITWIDTH@\", str(inp_stream_width))\n",
    "testbench_sv = testbench_sv.replace(\"@OUT_STREAM_BITWIDTH@\", str(out_stream_width))\n",
    "testbench_sv = testbench_sv.replace(\n",
    "    \"@IN_BEATS_PER_SAMPLE@\", str(int(np.prod(inp_shape_folded[:-1]) / batchsize))\n",
    ")\n",
    "testbench_sv = testbench_sv.replace(\n",
    "    \"@OUT_BEATS_PER_SAMPLE@\", str(int(np.prod(out_shape_folded[:-1]) / batchsize))\n",
    ")\n",
    "\n",
    "time_out = 1600000 # Cycles to wait after last image of the batch is loaded in the accelerator\n",
    "if not IMG_BATCH:\n",
    "    time_out_str = str(time_out) \n",
    "    testbench_sv = testbench_sv.replace(\"@TIMEOUT_CYCLES@\", time_out_str) \n",
    "else:\n",
    "    time_out_str = str(batchsize * time_out) \n",
    "    testbench_sv = testbench_sv.replace(\"@TIMEOUT_CYCLES@\", time_out_str) \n",
    "    \n",
    "if not IMG_BATCH:\n",
    "    with open(verilog_stitched_folder + \"/finn_testbench.sv\", \"w\") as f:\n",
    "        f.write(testbench_sv)\n",
    "else:\n",
    "    with open(verilog_stitched_folder + \"/finn_testbench_batch.sv\", \"w\") as f:\n",
    "        f.write(testbench_sv)"
   ]
  },
  {
   "cell_type": "code",
   "execution_count": null,
   "id": "5b40a615-2d7b-4fb5-ba68-f146c3bb162a",
   "metadata": {},
   "outputs": [],
   "source": []
  }
 ],
 "metadata": {
  "kernelspec": {
   "display_name": "Python 3 (ipykernel)",
   "language": "python",
   "name": "python3"
  },
  "language_info": {
   "codemirror_mode": {
    "name": "ipython",
    "version": 3
   },
   "file_extension": ".py",
   "mimetype": "text/x-python",
   "name": "python",
   "nbconvert_exporter": "python",
   "pygments_lexer": "ipython3",
   "version": "3.9.18"
  },
  "varInspector": {
   "cols": {
    "lenName": 16,
    "lenType": 16,
    "lenVar": 40
   },
   "kernels_config": {
    "python": {
     "delete_cmd_postfix": "",
     "delete_cmd_prefix": "del ",
     "library": "var_list.py",
     "varRefreshCmd": "print(var_dic_list())"
    },
    "r": {
     "delete_cmd_postfix": ") ",
     "delete_cmd_prefix": "rm(",
     "library": "var_list.r",
     "varRefreshCmd": "cat(var_dic_list()) "
    }
   },
   "types_to_exclude": [
    "module",
    "function",
    "builtin_function_or_method",
    "instance",
    "_Feature"
   ],
   "window_display": false
  }
 },
 "nbformat": 4,
 "nbformat_minor": 5
}
