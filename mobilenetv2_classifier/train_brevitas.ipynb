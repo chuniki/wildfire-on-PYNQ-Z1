{
 "cells": [
  {
   "cell_type": "code",
   "execution_count": null,
   "id": "ced39284-e77a-4bb4-b4f4-1e32f8dc378b",
   "metadata": {
    "editable": true,
    "slideshow": {
     "slide_type": ""
    },
    "tags": []
   },
   "outputs": [],
   "source": [
    "import logging\n",
    "import datetime\n",
    "\n",
    "import numpy as np\n",
    "import torch\n",
    "from torch.nn.utils import parameters_to_vector\n",
    "import torch.optim as optim\n",
    "from torchinfo import summary\n",
    "\n",
    "import matplotlib.pyplot as plt\n",
    "\n",
    "import config\n",
    "import modules.dataloaders as dataloaders\n",
    "\n",
    "import modules.model_mobilenetv2_mini_Resnet_Brevitas as cnv_model\n",
    "\n",
    "import modules.loss as loss\n",
    "import modules.metrics as metrics\n",
    "import modules.train_epoch as train_epoch\n",
    "import modules.val_epoch as val_epoch\n",
    "import modules.utils as utils"
   ]
  },
  {
   "cell_type": "markdown",
   "id": "4e2413f4-083b-4ddd-bf51-0332c1166d47",
   "metadata": {},
   "source": [
    "# Logger"
   ]
  },
  {
   "cell_type": "code",
   "execution_count": null,
   "id": "9006bcad-639b-4775-b5a6-2fd13420cbb2",
   "metadata": {},
   "outputs": [],
   "source": [
    "log_path = config.LOGS_FOLDER\n",
    "\n",
    "logger = logging.getLogger(\"GonLogger\")\n",
    "logger.propagate = False\n",
    "logger.setLevel(logging.INFO)\n",
    "file_handler = logging.FileHandler(log_path + 'logfile.log')\n",
    "formatter = logging.Formatter('%(message)s')\n",
    "file_handler.setFormatter(formatter)\n",
    "\n",
    "# add file handler to logger\n",
    "logger.addHandler(file_handler)\n",
    "\n",
    "logger.info(f'{config.MODEL} Classifier.\\n' +  \n",
    "            '\\tOne Head.\\n' +\n",
    "            '\\tWeighted for Precision.\\n' +\n",
    "            '\\tBrevitas Default.\\n'+ \n",
    "            '\\tDataset images divided by 255.\\n')"
   ]
  },
  {
   "cell_type": "markdown",
   "id": "3884364d-ec36-4e80-a0d5-c5d259f4b313",
   "metadata": {},
   "source": [
    "# Hyperparameters Log"
   ]
  },
  {
   "cell_type": "code",
   "execution_count": null,
   "id": "25fe6b1d-7f69-48d4-80a2-219e19c33016",
   "metadata": {},
   "outputs": [],
   "source": [
    "''' ============================\n",
    "    Print Config Values\n",
    "============================ '''\n",
    "print('\\nDatasets Length')\n",
    "print(f'\\tTrain and Val: {\"Full\" if config.DS_LEN == None else config.DS_LEN}')\n",
    "print(f'\\nLoad Model: {config.LOAD_MODEL}')\n",
    "if (config.LOAD_MODEL == True):\n",
    "    print(f'\\tModel: {config.LOAD_MODEL_FILE}')\n",
    "print(f'Device: {config.DEVICE}')\n",
    "print('Optimizer:')\n",
    "print(f'\\tLearning Rate: {config.LEARNING_RATE}')\n",
    "print(f'\\tWeight Decay: {config.WEIGHT_DECAY}')\n",
    "print('Scheduler:')\n",
    "print(f'\\tScheduler factor: {config.FACTOR}')\n",
    "print(f'\\tScheduler patience: {config.PATIENCE}')\n",
    "print(f'\\tScheduler threshold: {config.THRES}')\n",
    "print(f'\\tScheduler min learning rate: {config.MIN_LR}')\n",
    "print(f'Batch Size: {config.BATCH_SIZE}')\n",
    "print(f'Num Workers: {config.NUM_WORKERS}')\n",
    "print(f'Pin Memory: {config.PIN_MEMORY}')\n",
    "print(f'Epochs: {config.EPOCHS}')\n",
    "print('\\nIMG DIMS:')\n",
    "print(f'\\tWidth: {config.IMG_W}\\n\\tHeight: {config.IMG_H}')\n",
    "print('\\nBrevitas Config:')\n",
    "print(f'\\tWeights Bit Width: {config.WEIGHTS_BIT_WIDTH}')\n",
    "print(f'\\tBias Bit Width: {config.BIAS_BIT_WIDTH}')\n",
    "print(f'\\tActivations Bit Width: {config.ACTIVATIONS_BIT_WIDTH}')\n",
    "\n",
    "logger.info('\\nDatasets Length')\n",
    "logger.info(f'\\tTrain and Val: {\"Full\" if config.DS_LEN == None else config.DS_LEN}')\n",
    "logger.info(f'\\nLoad Model: {config.LOAD_MODEL}')\n",
    "if (config.LOAD_MODEL == True):\n",
    "    logger.info(f'\\tModel: {config.LOAD_MODEL_FILE}')\n",
    "logger.info(f'\\nDevice: {config.DEVICE}')\n",
    "logger.info('Optimizer:')\n",
    "logger.info(f'\\tLearning Rate: {config.LEARNING_RATE}')\n",
    "logger.info(f'\\tWeight Decay: {config.WEIGHT_DECAY}')\n",
    "logger.info('Scheduler:')\n",
    "logger.info(f'\\tScheduler factor: {config.FACTOR}')\n",
    "logger.info(f'\\tScheduler patience: {config.PATIENCE}')\n",
    "logger.info(f'\\tScheduler threshold: {config.THRES}')\n",
    "logger.info(f'\\tScheduler min learning rate: {config.MIN_LR}')\n",
    "logger.info(f'\\nBatch Size: {config.BATCH_SIZE}')\n",
    "logger.info(f'Num Workers: {config.NUM_WORKERS}')\n",
    "logger.info(f'Pin Memory: {config.PIN_MEMORY}')\n",
    "logger.info(f'Epochs: {config.EPOCHS}')\n",
    "logger.info('\\nIMG DIMS:')\n",
    "logger.info(f'\\tWidth: {config.IMG_W}\\n\\tHeight: {config.IMG_H}')\n",
    "logger.info('\\nBrevitas Config:')\n",
    "logger.info(f'\\tWeights Bit Width: {config.WEIGHTS_BIT_WIDTH}')\n",
    "logger.info(f'\\tBias Bit Width: {config.BIAS_BIT_WIDTH}')\n",
    "logger.info(f'\\tActivations Bit Width: {config.ACTIVATIONS_BIT_WIDTH}')"
   ]
  },
  {
   "cell_type": "markdown",
   "id": "c48611bc-7a36-41f5-a80c-5cc442bd40fd",
   "metadata": {},
   "source": [
    "# Dataloaders"
   ]
  },
  {
   "cell_type": "code",
   "execution_count": null,
   "id": "125fadde-618b-4a0d-8d1e-86f4b46a35a2",
   "metadata": {},
   "outputs": [],
   "source": [
    "train_loader = dataloaders.get_train_loader()\n",
    "val_loader = dataloaders.get_val_loader()"
   ]
  },
  {
   "cell_type": "markdown",
   "id": "c0cad4b2-3706-47af-87f5-c8221d0f0a28",
   "metadata": {},
   "source": [
    "### Datasets Length"
   ]
  },
  {
   "cell_type": "code",
   "execution_count": null,
   "id": "98067762-5c7e-4e71-9f8e-f32f10a59e32",
   "metadata": {},
   "outputs": [],
   "source": [
    "logger.info(\"\\n********* Datasets Length *********\")\n",
    "\n",
    "print(f'Train Dataset Length: {len(train_loader.dataset)}')\n",
    "logger.info(f'Train Dataset Length: {len(train_loader.dataset)}')\n",
    "\n",
    "print(f'Test Dataset Length: {len(val_loader.dataset)}')\n",
    "logger.info(f'Test Dataset Length: {len(val_loader.dataset)}')"
   ]
  },
  {
   "cell_type": "markdown",
   "id": "841b4bfc-55f6-4692-a5de-8f457d17472c",
   "metadata": {},
   "source": [
    "### Plot Some Train Pictures"
   ]
  },
  {
   "cell_type": "code",
   "execution_count": null,
   "id": "f18dab26-cb88-4c13-ad66-a5cc8176a0f0",
   "metadata": {},
   "outputs": [],
   "source": [
    "for i, (img, label) in enumerate(train_loader):\n",
    "\n",
    "    plt.subplots(8,4, figsize=(8, 16))\n",
    "    \n",
    "    for idx in range(config.BATCH_SIZE):\n",
    "        plt.subplot(8, 4, idx+1)\n",
    "        plt.imshow(img[idx].permute(1, 2, 0))\n",
    "        title = \"\"\n",
    "        if label[idx][0] == 1 and label[idx][1] == 1:\n",
    "            title += \"Smoke and Fire\"\n",
    "        elif label[idx][0] == 1 and label[idx][1] == 0:\n",
    "            title += \"Only Smoke\"\n",
    "        elif label[idx][0] == 0 and label[idx][1] == 1:\n",
    "            title += \"Only Fire\"\n",
    "        else:\n",
    "            title += \"Empty\"\n",
    "        plt.title(title)\n",
    "        \n",
    "        if (idx == 31):\n",
    "            break\n",
    "    plt.tight_layout()\n",
    "    plt.savefig(config.RUN_FOLDER + 'train_pictures.png')\n",
    "    #plt.show()\n",
    "    plt.close()\n",
    "    break"
   ]
  },
  {
   "cell_type": "markdown",
   "id": "3f38c400-7e28-46fd-8cab-fb537e5bb248",
   "metadata": {},
   "source": [
    "### Plot Some Val Pictures"
   ]
  },
  {
   "cell_type": "code",
   "execution_count": null,
   "id": "60efe557-e316-4ec3-a850-3e671f04b1a8",
   "metadata": {},
   "outputs": [],
   "source": [
    "for i, (img, label) in enumerate(val_loader):\n",
    "\n",
    "    plt.subplots(8,4, figsize=(8, 16))\n",
    "    \n",
    "    for idx in range(config.BATCH_SIZE):\n",
    "        plt.subplot(8, 4, idx+1)\n",
    "        plt.imshow(img[idx].permute(1, 2, 0))\n",
    "        title = \"\"\n",
    "        if label[idx][0] == 1 and label[idx][1] == 1:\n",
    "            title += \"Smoke and Fire\"\n",
    "        elif label[idx][0] == 1 and label[idx][1] == 0:\n",
    "            title += \"Only Smoke\"\n",
    "        elif label[idx][0] == 0 and label[idx][1] == 1:\n",
    "            title += \"Only Fire\"\n",
    "        else:\n",
    "            title += \"Empty\"\n",
    "        plt.title(title)\n",
    "        \n",
    "        if (idx == 31):\n",
    "            break\n",
    "    plt.tight_layout()\n",
    "    plt.savefig(config.RUN_FOLDER + 'val_pictures.png')\n",
    "    plt.close()\n",
    "    break"
   ]
  },
  {
   "cell_type": "markdown",
   "id": "32673ea5-65c2-418d-b4bb-dc52d5fc0cb5",
   "metadata": {},
   "source": [
    "# Load Model"
   ]
  },
  {
   "cell_type": "code",
   "execution_count": null,
   "id": "65f05240-0c38-4f73-b06d-bf9ceefcb369",
   "metadata": {},
   "outputs": [],
   "source": [
    "model = cnv_model.MobileNetV2_MINI_RESNET().to(config.DEVICE)"
   ]
  },
  {
   "cell_type": "markdown",
   "id": "578c963b-1a73-4b8b-9646-8ad392dd4eee",
   "metadata": {},
   "source": [
    "### Optimizer and Scheduler"
   ]
  },
  {
   "cell_type": "code",
   "execution_count": null,
   "id": "e2284272-f9fc-4adb-a7c4-81ac3956d95b",
   "metadata": {},
   "outputs": [],
   "source": [
    "optimizer = optim.Adam(model.parameters(), \n",
    "                       lr=config.LEARNING_RATE, \n",
    "                       weight_decay=config.WEIGHT_DECAY)\n",
    "\n",
    "scheduler = optim.lr_scheduler.ReduceLROnPlateau(optimizer, \n",
    "                                                 mode='min',\n",
    "                                                 factor=config.FACTOR, \n",
    "                                                 patience=config.PATIENCE, \n",
    "                                                 threshold=config.THRES, \n",
    "                                                 threshold_mode='abs',\n",
    "                                                 min_lr=config.MIN_LR)\n",
    "\n"
   ]
  },
  {
   "cell_type": "markdown",
   "id": "1d0bac02-ea2e-40b6-9f71-456b3f3cf943",
   "metadata": {},
   "source": [
    "### Parameters"
   ]
  },
  {
   "cell_type": "code",
   "execution_count": null,
   "id": "ce30cdae-4cb8-4399-9766-49932d6a4bed",
   "metadata": {
    "editable": true,
    "slideshow": {
     "slide_type": ""
    },
    "tags": []
   },
   "outputs": [],
   "source": [
    "n_trainable = sum(p.numel() for p in model.parameters() if p.requires_grad)\n",
    "print(f'\\nTrainable parameters = {n_trainable}')\n",
    "logger.info(f'\\nTrainable parameters = {n_trainable}')\n",
    "\n",
    "n_params = parameters_to_vector(model.parameters()).numel()\n",
    "print(f'Total parameters = {n_params}\\n')\n",
    "logger.info(f'Total parameters = {n_params}\\n')"
   ]
  },
  {
   "cell_type": "markdown",
   "id": "cfb33a7e-b560-4446-bd60-8621483adfdc",
   "metadata": {},
   "source": [
    "### Check Model Shape: Random Input"
   ]
  },
  {
   "cell_type": "code",
   "execution_count": null,
   "id": "d80f00c5-183d-431b-bf8a-26551c390cae",
   "metadata": {},
   "outputs": [],
   "source": [
    "dummy_input = np.random.rand(4, config.NUM_CHANNELS, config.IMG_H, config.IMG_W)\n",
    "dummy_input = torch.tensor(dummy_input, dtype=torch.float32, device=config.DEVICE)\n",
    "out_test = model(dummy_input)\n",
    "print(f'Model shape is {out_test}')\n"
   ]
  },
  {
   "cell_type": "markdown",
   "id": "6a769672-efb0-4727-8322-8c68795d0efb",
   "metadata": {},
   "source": [
    "### Torchinfo"
   ]
  },
  {
   "cell_type": "code",
   "execution_count": null,
   "id": "607141f0-be35-4feb-8635-c63724d1503e",
   "metadata": {},
   "outputs": [],
   "source": [
    "print(summary(model, input_size=(1, config.NUM_CHANNELS, config.IMG_H, config.IMG_W)))\n",
    "logger.info(summary(model, input_size=(1, config.NUM_CHANNELS, config.IMG_H, config.IMG_W)))"
   ]
  },
  {
   "cell_type": "markdown",
   "id": "547891ee-9c53-46c9-9d17-2dfc59a5c516",
   "metadata": {},
   "source": [
    "## Load Checkpoint"
   ]
  },
  {
   "cell_type": "code",
   "execution_count": null,
   "id": "8ee29ba8-2341-4f78-afbf-ca14d98c93e0",
   "metadata": {},
   "outputs": [],
   "source": [
    "if config.LOAD_MODEL:\n",
    "    print(f'Loading Checkpoint: \\n{config.LOAD_MODEL_FILE}')\n",
    "    logger.info(f'Loading Checkpoint: \\n{config.LOAD_MODEL_FILE}')\n",
    "    model.eval();\n",
    "    epochs_trained = utils.load_checkpoint(\n",
    "        config.LOAD_MODEL_FILE, \n",
    "        model=model, \n",
    "        optimizer=optimizer, \n",
    "        scheduler=scheduler, \n",
    "        device=config.DEVICE)\n",
    "    print(f'Loading model trained {epochs_trained} epochs')\n",
    "    logger.info(f'Loading model trained {epochs_trained} epochs')"
   ]
  },
  {
   "cell_type": "code",
   "execution_count": null,
   "id": "76ea21d6-7270-4d56-abe1-42d56baf3563",
   "metadata": {},
   "outputs": [],
   "source": [
    "model.to(config.DEVICE);"
   ]
  },
  {
   "cell_type": "markdown",
   "id": "61d74ed9-984a-4f66-8121-d1152fecad98",
   "metadata": {},
   "source": [
    "# Loss Function"
   ]
  },
  {
   "cell_type": "code",
   "execution_count": null,
   "id": "6efb3c84-4076-4694-8505-2c3c0ee9aa1e",
   "metadata": {},
   "outputs": [],
   "source": [
    "if config.LOSS_FN == \"BCE\":\n",
    "    print(f'Loss Function: BCE')\n",
    "    logger.info(f'\\nLoss Function: BCE')\n",
    "    print(f'Smoke Precision Weight: {config.SMOKE_PRECISION_WEIGHT}')\n",
    "    logger.info(f'Smoke Precision Weight: {config.SMOKE_PRECISION_WEIGHT}')\n",
    "    loss_fn = loss.BCE_LOSS(device=config.DEVICE, smoke_precision_weight=config.SMOKE_PRECISION_WEIGHT)\n",
    "else:\n",
    "    print(\"Wrong loss function\")\n",
    "    logger.info(\"Wrong loss function\")\n",
    "    raise SystemExit(\"Wrong loss function\")"
   ]
  },
  {
   "cell_type": "markdown",
   "id": "d7f25227-bbcd-43e9-a41b-70a324900a21",
   "metadata": {},
   "source": [
    "# Loggers and Plotters for Losses and Metrics"
   ]
  },
  {
   "cell_type": "code",
   "execution_count": null,
   "id": "bb75d214-f372-4aee-a196-c43276145a66",
   "metadata": {},
   "outputs": [],
   "source": [
    "train_losses_logger = utils.LogLosses()\n",
    "train_metrics_logger = utils.LogMetrics()\n",
    "lr_logger = utils.LogLR(log_path=config.PLOTS_FOLDER)\n",
    "\n",
    "val_losses_logger = utils.LogLosses()\n",
    "val_metrics_logger = utils.LogMetrics()\n",
    "\n",
    "loss_plotter = utils.PlotMetrics(log_path=config.PLOTS_FOLDER, model_name=config.MODEL, loss_or_metric='Loss')\n",
    "metrics_plotter = utils.PlotMetrics(log_path=config.PLOTS_FOLDER, model_name=config.MODEL, loss_or_metric='Metric')"
   ]
  },
  {
   "cell_type": "markdown",
   "id": "80f38d11-6099-48cd-9f95-f5b0be87d804",
   "metadata": {},
   "source": [
    "# Main Function to Train"
   ]
  },
  {
   "cell_type": "code",
   "execution_count": null,
   "id": "180683fc-5a55-4f1c-9d6e-c8ffa10be16a",
   "metadata": {},
   "outputs": [],
   "source": [
    "def train_loop(model, start_epoch=0, epochs_to_train=config.EPOCHS):\n",
    "\n",
    "    ''' ==============================================================\n",
    "                                TRAINING LOOP\n",
    "    ============================================================== '''\n",
    "    start = datetime.datetime.now()\n",
    "    start_time = start.strftime(\"%H:%M:%S\")\n",
    "    print(f'\\n***Start Training: {start_time}\\n')\n",
    "    logger.info(f'\\n***Start Training: {start_time}\\n')\n",
    "    \n",
    "    # Start with infinite validation loss\n",
    "    best_valid_loss = np.inf\n",
    "    best_smoke_precision = 0.\n",
    "    smoke_f1_min_save = 0.9 \n",
    "    best_mean_f1 = 0.\n",
    "    best_mean_f1_epoch = 0\n",
    "\n",
    "    if start_epoch == 0:\n",
    "        epochs_plot = []\n",
    "    else:\n",
    "        epochs_plot = [i for i in range(start_epoch)]    \n",
    "\n",
    "    end_epoch = start_epoch + epochs_to_train\n",
    "        \n",
    "    for epoch in range(start_epoch, end_epoch):\n",
    "\n",
    "        print(f'\\n=== EPOCH {epoch}/{end_epoch-1} ===')\n",
    "        logger.info(f'\\n=== EPOCH {epoch}/{end_epoch-1} ===')\n",
    "        \n",
    "        #====================== TRAINING ========================#\n",
    "        current_lr = train_epoch.get_lr(optimizer=optimizer)\n",
    "        logger.info(f'Learning Rate = {current_lr}\\n')\n",
    "        lr_logger.log_lr(current_lr)\n",
    "                \n",
    "        train_losses, train_metrics = train_epoch.train_fn(\n",
    "            loader=train_loader, \n",
    "            model=model, \n",
    "            optimizer=optimizer, \n",
    "            loss_fn=loss_fn,\n",
    "            device=config.DEVICE)\n",
    "        \n",
    "        train_losses_logger.update_metrics(train_losses)\n",
    "        train_metrics_logger.update_metrics(train_metrics)\n",
    "                \n",
    "        logger.info(utils.print_metrics_to_logger(\"TRAIN Stats\", train_losses, train_metrics))\n",
    "        \n",
    "        #===================== VALIDATING =======================#\n",
    "        with torch.no_grad():\n",
    "            val_losses, val_metrics = val_epoch.eval_fn(\n",
    "                loader=val_loader, \n",
    "                model=model,                         \n",
    "                loss_fn=loss_fn,\n",
    "                device=config.DEVICE)\n",
    "            \n",
    "            scheduler.step(val_losses['Total'])\n",
    "            \n",
    "            val_losses_logger.update_metrics(val_losses)\n",
    "            val_metrics_logger.update_metrics(val_metrics)\n",
    "\n",
    "            logger.info(utils.print_metrics_to_logger(\"VAL Stats\", val_losses, val_metrics))\n",
    "            \n",
    "        epochs_plot.append(epoch)\n",
    "\n",
    "        loss_plotter.plot_all_metrics(\n",
    "            train_losses_logger.get_metrics(),\n",
    "            val_losses_logger.get_metrics(),\n",
    "            epochs_plot)\n",
    "\n",
    "        metrics_plotter.plot_all_metrics(\n",
    "            train_metrics_logger.get_metrics(),\n",
    "            val_metrics_logger.get_metrics(),\n",
    "            epochs_plot)\n",
    "\n",
    "        lr_logger.plot_lr(epochs_plot)\n",
    "        #======================= SAVING =========================#\n",
    "        if ( (epoch+1) % 5 ) == 0:\n",
    "            save_name = config.WEIGHTS_FOLDER + config.MODEL + '_classifier__5epoch.pt'\n",
    "            utils.save_checkpoint(epoch, model, optimizer, scheduler, save_name) \n",
    "            \n",
    "        if best_valid_loss > val_losses['Total']:\n",
    "            best_valid_loss = val_losses['Total']\n",
    "            print(f\"\\nSaving model with new best validation loss: {best_valid_loss:.4f}\")\n",
    "            logger.info(f\"Saving model with new best validation loss: {best_valid_loss:.4f}\")\n",
    "            save_name = config.WEIGHTS_FOLDER + config.MODEL + '_classifier__' + 'best_loss'  + '.pt'\n",
    "            utils.save_checkpoint(epoch, model, optimizer, scheduler, save_name) \n",
    "            save_onnx = config.ONNX_FOLDER + config.MODEL + '_classifier__' + 'best_loss'  #+ '.onnx'\n",
    "            utils.export_onnx(model, (1, config.NUM_CHANNELS, config.IMG_H, config.IMG_W), save_onnx, config.DEVICE)\n",
    "\n",
    "        # Save model if best mean F1 increases\n",
    "        val_f1_mean = (val_metrics['F1'][0] + val_metrics['F1'][1]) / 2\n",
    "        if (val_f1_mean > best_mean_f1) :\n",
    "            best_mean_f1 = val_f1_mean\n",
    "            best_mean_f1_epoch = epoch\n",
    "            print(f'Saving model with best Mean F1: {best_mean_f1:.4f}')\n",
    "            logger.info(f'Saving model with best Mean F1: {best_mean_f1:.4f}')\n",
    "            save_f1_name = 'best_mean_F1'\n",
    "            save_name = config.WEIGHTS_FOLDER + config.MODEL + '_classifier__' + save_f1_name + '.pt'\n",
    "            utils.save_checkpoint(epoch, model, optimizer, scheduler, save_name) \n",
    "            save_onnx = config.ONNX_FOLDER + config.MODEL + '_classifier__' + save_f1_name #+ '.onnx'\n",
    "            utils.export_onnx(model, (1, config.NUM_CHANNELS, config.IMG_H, config.IMG_W), save_onnx, config.DEVICE)\n",
    "        \n",
    "    logger.info('Saving last model')   \n",
    "    torch.save(model.state_dict(), config.WEIGHTS_FOLDER + 'last_' + config.MODEL + '_classifier.pt') \n",
    "\n",
    "    # Best F1 Mean epoch\n",
    "    print(f'\\nBest F1 Mean at epoch {best_mean_f1_epoch}: {best_mean_f1}')\n",
    "    logger.info(f'\\n_______________________ Best F1 Mean at epoch {best_mean_f1_epoch}: {best_mean_f1} _______________________')\n",
    "\n",
    "    #======================= FINISH =========================#\n",
    "    end = datetime.datetime.now()\n",
    "    end_time = end.strftime(\"%H:%M:%S\")\n",
    "    print(f'\\n***Script finished: {end_time}\\n')  \n",
    "    print(f'Time elapsed: {end-start}')\n",
    "    logger.info(f'\\n***Script finished: {end_time}\\n')  \n",
    "    logger.info(f'Time elapsed: {end-start}')\n",
    "    \n",
    "    return model"
   ]
  },
  {
   "cell_type": "markdown",
   "id": "7eb71ba5-1f21-4a7b-9ebe-6b50a5d38ed8",
   "metadata": {},
   "source": [
    "# Training Loop"
   ]
  },
  {
   "cell_type": "code",
   "execution_count": null,
   "id": "dd3a8768-03a8-44f3-829f-58045dbfea7b",
   "metadata": {
    "editable": true,
    "slideshow": {
     "slide_type": ""
    },
    "tags": []
   },
   "outputs": [],
   "source": [
    "print(\"Starting script\\n\")\n",
    "logger.info(\"Starting script\\n\")\n",
    "\n",
    "model = train_loop(model)"
   ]
  },
  {
   "cell_type": "code",
   "execution_count": null,
   "id": "bb0eaad5-d3f2-48e4-9922-505d025372b7",
   "metadata": {},
   "outputs": [],
   "source": [
    "### To train more    \n",
    "# print(\"Train More script\\n\")\n",
    "# logger.info(\"Train More\\n\")\n",
    "\n",
    "# model = train_loop(model, start_epoch=75, epochs_to_train=15)"
   ]
  },
  {
   "cell_type": "markdown",
   "id": "46c18474-8bc6-4f26-9479-529412e9c71d",
   "metadata": {},
   "source": [
    "### Load Checkpoint with Best F1 Mean"
   ]
  },
  {
   "cell_type": "code",
   "execution_count": null,
   "id": "b517a297-edea-4d37-9e5b-90ca2512c9e7",
   "metadata": {},
   "outputs": [],
   "source": [
    "model_path = config.WEIGHTS_FOLDER + config.MODEL + '_classifier__best_mean_F1.pt'"
   ]
  },
  {
   "cell_type": "code",
   "execution_count": null,
   "id": "9b0959a9-9b84-4fd6-85a3-67fb519f6b10",
   "metadata": {},
   "outputs": [],
   "source": [
    "epochs_trained = utils.load_checkpoint(\n",
    "    model_path, \n",
    "    model=model, \n",
    "    optimizer=optimizer, \n",
    "    scheduler=scheduler, \n",
    "    device=config.DEVICE)"
   ]
  },
  {
   "cell_type": "code",
   "execution_count": null,
   "id": "76f3f1db-8968-45ea-811d-7f0d2fbd8dd3",
   "metadata": {},
   "outputs": [],
   "source": [
    "logger.info(f'\\nLoading best F1 Mean model, trained for {epochs_trained} epochs')  "
   ]
  },
  {
   "cell_type": "code",
   "execution_count": null,
   "id": "5a80e3bb-2570-4e76-960f-ac0284681c8a",
   "metadata": {},
   "outputs": [],
   "source": [
    "model.to('cuda');"
   ]
  },
  {
   "cell_type": "markdown",
   "id": "c8eb53e5-0b75-4bb0-8f45-d2e104d25a13",
   "metadata": {},
   "source": [
    "### Whole Test Loader, to check it is the same as training"
   ]
  },
  {
   "cell_type": "code",
   "execution_count": null,
   "id": "9c1ae050-a816-407d-9569-5e5b6f84af6b",
   "metadata": {},
   "outputs": [],
   "source": [
    "with torch.no_grad():\n",
    "    val_losses, val_metrics = val_epoch.eval_fn(\n",
    "        loader=val_loader, \n",
    "        model=model,                         \n",
    "        loss_fn=loss_fn,\n",
    "        device=config.DEVICE)"
   ]
  },
  {
   "cell_type": "code",
   "execution_count": null,
   "id": "bf582d94-1848-4729-8816-86f1211e9904",
   "metadata": {},
   "outputs": [],
   "source": [
    "logger.info('\\nTesting with FULL TEST LOADER')  \n",
    "logger.info(val_metrics)"
   ]
  },
  {
   "cell_type": "markdown",
   "id": "2c900ac0-d24b-45c6-bab6-8e14cd6cd04d",
   "metadata": {},
   "source": [
    "# Convert the Model to BIPOLAR OUT"
   ]
  },
  {
   "cell_type": "code",
   "execution_count": null,
   "id": "d200ae1b-ba48-42f5-9c6f-85896602f444",
   "metadata": {},
   "outputs": [],
   "source": [
    "import brevitas.nn as qnn\n",
    "import torch.nn as nn"
   ]
  },
  {
   "cell_type": "code",
   "execution_count": null,
   "id": "c168b256-32e0-436f-9400-0479892b124f",
   "metadata": {},
   "outputs": [],
   "source": [
    "class CNV_BIPOLAR_OUT(nn.Module):\n",
    "    def __init__(self, base_model):\n",
    "        super(CNV_BIPOLAR_OUT, self).__init__()\n",
    "        self.base_model = base_model\n",
    "        self.qnt_output = qnn.QuantIdentity(\n",
    "            quant_type='binary', \n",
    "            scaling_impl_type='const',\n",
    "            bit_width=1, min_val=-1.0, max_val=1.0)\n",
    "\n",
    "    def forward(self, x):\n",
    "        x = self.base_model(x)\n",
    "        x = self.qnt_output(x)\n",
    "        return x"
   ]
  },
  {
   "cell_type": "code",
   "execution_count": null,
   "id": "e72ae5e1-b97e-4250-bf88-3ed4d9d4db12",
   "metadata": {},
   "outputs": [],
   "source": [
    "cnv_bipolar_out = CNV_BIPOLAR_OUT(model).to(config.DEVICE)"
   ]
  },
  {
   "cell_type": "markdown",
   "id": "d24225a2-634a-4d8f-840a-ff382a29e3bd",
   "metadata": {},
   "source": [
    "### New Evaluation for BIPOLAR Out Model"
   ]
  },
  {
   "cell_type": "code",
   "execution_count": null,
   "id": "be051f33-348c-43ec-89aa-d7e1e411d227",
   "metadata": {},
   "outputs": [],
   "source": [
    "from tqdm import tqdm\n",
    "\n",
    "def eval_bipolar_fn(loader, model, device):\n",
    "    \n",
    "    model.eval()\n",
    "    loop = tqdm(loader, desc='Validating', leave=True)\n",
    "\n",
    "    for batch_idx, (x, y) in enumerate(loop):\n",
    "        x, y = x.to(device), y.to(device)\n",
    "        yhat = model(x)\n",
    "      \n",
    "        yhat[yhat < 1] = 0\n",
    "    \n",
    "        metrics.precision_metric.update(yhat, y)\n",
    "        metrics.recall_metric.update(yhat, y)\n",
    "        metrics.accuracy_metric.update(yhat, y)\n",
    "        metrics.f1_metric.update(yhat, y)\n",
    "   \n",
    "    precision = metrics.precision_metric.compute()\n",
    "    recall = metrics.recall_metric.compute()\n",
    "    accuracy = metrics.accuracy_metric.compute()\n",
    "    f1 = metrics.f1_metric.compute()\n",
    "    \n",
    "    metrics.precision_metric.reset()\n",
    "    metrics.recall_metric.reset()\n",
    "    metrics.accuracy_metric.reset()\n",
    "    metrics.f1_metric.reset()\n",
    "\n",
    "    print(f'SMOKE -> Precision: {precision[0]:.4f} - Recall: {recall[0]:.4f} - Accuracy: {accuracy[0]:.4f} - F1: {f1[0]:.4f}')\n",
    "    print(f'FIRE -> Precision: {precision[1]:.4f} - Recall: {recall[1]:.4f} - Accuracy: {accuracy[1]:.4f} - F1: {f1[1]:.4f}')\n",
    "    \n",
    "    return (\n",
    "        {\n",
    "        'Accuracy': [accuracy[0].item(), accuracy[1].item()],\n",
    "        'Precision': [precision[0].item(), precision[1].item()],\n",
    "        'Recall': [recall[0].item(), recall[1].item()],\n",
    "        'F1': [f1[0].item(), f1[1].item()] \n",
    "        }\n",
    "    )"
   ]
  },
  {
   "cell_type": "code",
   "execution_count": null,
   "id": "fb942900-3977-4437-ba6a-d733e7791ce6",
   "metadata": {},
   "outputs": [],
   "source": [
    "logger.info(\"\\n###############################################################\")\n",
    "logger.info(\"                 Results of BIPOLAR OUT Model\")\n",
    "logger.info(\"###############################################################\")"
   ]
  },
  {
   "cell_type": "markdown",
   "id": "3070ff2c-7e3d-4ca2-b0bc-1928209b07d1",
   "metadata": {},
   "source": [
    "### Full DS"
   ]
  },
  {
   "cell_type": "code",
   "execution_count": null,
   "id": "6c6d2eb2-6bca-4693-a27f-cd63c642cf86",
   "metadata": {},
   "outputs": [],
   "source": [
    "cnv_bipolar_out.eval()\n",
    "with torch.no_grad():\n",
    "    val_metrics = eval_bipolar_fn(\n",
    "        loader=val_loader, \n",
    "        model=cnv_bipolar_out,                         \n",
    "        device=config.DEVICE)"
   ]
  },
  {
   "cell_type": "code",
   "execution_count": null,
   "id": "f51291a6-6314-4f67-8100-8f8e9c467ded",
   "metadata": {},
   "outputs": [],
   "source": [
    "logger.info('\\nTesting with FULL TEST LOADER')  \n",
    "logger.info(val_metrics)"
   ]
  },
  {
   "cell_type": "markdown",
   "id": "aefafb34-9307-4292-91b3-f1cd01d6ea7f",
   "metadata": {},
   "source": [
    "# Export Bipolar to QONNX"
   ]
  },
  {
   "cell_type": "code",
   "execution_count": null,
   "id": "019a10e2-20ae-41dd-abc2-5aeb86d3692b",
   "metadata": {},
   "outputs": [],
   "source": [
    "save_f1_name = 'best_mean_F1'\n",
    "save_bipolar_onnx = config.ONNX_FOLDER + config.MODEL + '_classifier__' + save_f1_name + '__BIPOLAR_Out'\n",
    "utils.export_onnx(cnv_bipolar_out, (1, config.NUM_CHANNELS, config.IMG_H, config.IMG_W), save_bipolar_onnx, config.DEVICE)"
   ]
  }
 ],
 "metadata": {
  "kernelspec": {
   "display_name": "Python 3 (ipykernel)",
   "language": "python",
   "name": "python3"
  },
  "language_info": {
   "codemirror_mode": {
    "name": "ipython",
    "version": 3
   },
   "file_extension": ".py",
   "mimetype": "text/x-python",
   "name": "python",
   "nbconvert_exporter": "python",
   "pygments_lexer": "ipython3",
   "version": "3.9.18"
  }
 },
 "nbformat": 4,
 "nbformat_minor": 5
}
