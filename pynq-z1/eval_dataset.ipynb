{
 "cells": [
  {
   "cell_type": "code",
   "execution_count": 1,
   "id": "b56c5d82-a337-44a1-81ee-439df4a14ffe",
   "metadata": {},
   "outputs": [],
   "source": [
    "import driver\n",
    "from pynq.pl_server.device import Device\n",
    "\n",
    "import os\n",
    "import my_metrics\n",
    "import pandas as pd"
   ]
  },
  {
   "cell_type": "markdown",
   "id": "3ed26ec5-a69a-4411-b644-f9160c14c033",
   "metadata": {},
   "source": [
    "# Images List and Labels Folder"
   ]
  },
  {
   "cell_type": "markdown",
   "id": "7c5068c8-c4e3-40fd-93d9-bbffbfbb892c",
   "metadata": {},
   "source": [
    "### DFire"
   ]
  },
  {
   "cell_type": "code",
   "execution_count": 2,
   "id": "414a957d-b1f9-4013-b828-be87d668bc79",
   "metadata": {},
   "outputs": [],
   "source": [
    "dfire_imgs_folder = '../../../../datasets/dfire_test/images/'\n",
    "dfire_imgs_list = [dfire_imgs_folder + fname for fname in os.listdir(dfire_imgs_folder) if not fname.startswith('.')] \n",
    "\n",
    "dfire_labels_folder = '../../../../datasets/dfire_test/labels/'"
   ]
  },
  {
   "cell_type": "code",
   "execution_count": 3,
   "id": "e613e5cb-8ecd-4d48-8b83-ad2d7bed8e29",
   "metadata": {},
   "outputs": [
    {
     "name": "stdout",
     "output_type": "stream",
     "text": [
      "4306\n"
     ]
    }
   ],
   "source": [
    "print(len(dfire_imgs_list))"
   ]
  },
  {
   "cell_type": "markdown",
   "id": "fc25d3d6-80c2-4271-88a3-4b16371420c1",
   "metadata": {},
   "source": [
    "### FASDD UAV"
   ]
  },
  {
   "cell_type": "code",
   "execution_count": 4,
   "id": "f9af92de-f8ab-4e4d-82aa-d01284ba301d",
   "metadata": {},
   "outputs": [],
   "source": [
    "fasdd_uav_imgs_folder = '../../../../datasets/fasdd_uav_test/'\n",
    "fasdd_uav_imgs_list = [fasdd_uav_imgs_folder + fname for fname in os.listdir(fasdd_uav_imgs_folder) if not fname.startswith('.')] "
   ]
  },
  {
   "cell_type": "code",
   "execution_count": 5,
   "id": "6ec8ca00-7f81-45ba-92a3-1fea20001876",
   "metadata": {},
   "outputs": [
    {
     "name": "stdout",
     "output_type": "stream",
     "text": [
      "4181\n"
     ]
    }
   ],
   "source": [
    "print(len(fasdd_uav_imgs_list))"
   ]
  },
  {
   "cell_type": "markdown",
   "id": "ca78d342-dff3-48a8-aa9a-cb3bab81ab46",
   "metadata": {},
   "source": [
    "### FASDD CV"
   ]
  },
  {
   "cell_type": "code",
   "execution_count": 6,
   "id": "6dacffe0-ec55-4372-a7f2-39a84fa1075d",
   "metadata": {},
   "outputs": [],
   "source": [
    "fasdd_cv_imgs_folder = '../../../../datasets/fasdd_cv_test/'\n",
    "fasdd_cv_imgs_list = [fasdd_cv_imgs_folder + fname for fname in os.listdir(fasdd_cv_imgs_folder) if not fname.startswith('.')] "
   ]
  },
  {
   "cell_type": "code",
   "execution_count": 7,
   "id": "f94193c6-08bd-4a18-834a-367bc9ae0199",
   "metadata": {},
   "outputs": [
    {
     "name": "stdout",
     "output_type": "stream",
     "text": [
      "15884\n"
     ]
    }
   ],
   "source": [
    "print(len(fasdd_cv_imgs_list))"
   ]
  },
  {
   "cell_type": "markdown",
   "id": "e5255e45-465c-416b-afaf-f747af3d5b65",
   "metadata": {},
   "source": [
    "# Dataset Dictionary"
   ]
  },
  {
   "cell_type": "code",
   "execution_count": 8,
   "id": "97128150-3902-43c7-802e-e50cb628f61a",
   "metadata": {},
   "outputs": [],
   "source": [
    "datasets_dict = {\n",
    "    \"dfire\": dfire_imgs_list,\n",
    "    \"fasdd_uav\": fasdd_uav_imgs_list,\n",
    "    \"fasdd_cv\": fasdd_cv_imgs_list,\n",
    "}"
   ]
  },
  {
   "cell_type": "markdown",
   "id": "9462a8c6-8dc2-488d-8ce7-b8dd8622db63",
   "metadata": {},
   "source": [
    "# Accelerator"
   ]
  },
  {
   "cell_type": "code",
   "execution_count": 9,
   "id": "f5e2502e-d1d9-4ea5-8aef-2cfede7352e8",
   "metadata": {},
   "outputs": [
    {
     "data": {
      "application/javascript": [
       "\n",
       "try {\n",
       "require(['notebook/js/codecell'], function(codecell) {\n",
       "  codecell.CodeCell.options_default.highlight_modes[\n",
       "      'magic_text/x-csrc'] = {'reg':[/^%%microblaze/]};\n",
       "  Jupyter.notebook.events.one('kernel_ready.Kernel', function(){\n",
       "      Jupyter.notebook.get_cells().map(function(cell){\n",
       "          if (cell.cell_type == 'code'){ cell.auto_highlight(); } }) ;\n",
       "  });\n",
       "});\n",
       "} catch (e) {};\n"
      ]
     },
     "metadata": {},
     "output_type": "display_data"
    },
    {
     "data": {
      "application/javascript": [
       "\n",
       "try {\n",
       "require(['notebook/js/codecell'], function(codecell) {\n",
       "  codecell.CodeCell.options_default.highlight_modes[\n",
       "      'magic_text/x-csrc'] = {'reg':[/^%%pybind11/]};\n",
       "  Jupyter.notebook.events.one('kernel_ready.Kernel', function(){\n",
       "      Jupyter.notebook.get_cells().map(function(cell){\n",
       "          if (cell.cell_type == 'code'){ cell.auto_highlight(); } }) ;\n",
       "  });\n",
       "});\n",
       "} catch (e) {};\n"
      ]
     },
     "metadata": {},
     "output_type": "display_data"
    }
   ],
   "source": [
    "my_device = Device.devices[0]\n",
    "\n",
    "accel = driver.FINNExampleOverlay(\n",
    "    bitfile_name = '../bitfile/finn-accel.bit', \n",
    "    platform = \"zynq-iodma\",\n",
    "    io_shape_dict = driver.io_shape_dict, \n",
    "    batch_size = 1,\n",
    "    runtime_weight_dir = \"runtime_weights/\", \n",
    "    device=my_device\n",
    ")"
   ]
  },
  {
   "cell_type": "markdown",
   "id": "1bbf7bfd-38ea-4704-bbe1-c1a5f129ac5a",
   "metadata": {},
   "source": [
    "# Throughput Test"
   ]
  },
  {
   "cell_type": "code",
   "execution_count": 10,
   "id": "dcbb2be9-86b8-4c68-b100-6b95912ccac6",
   "metadata": {},
   "outputs": [
    {
     "name": "stdout",
     "output_type": "stream",
     "text": [
      "Results written to nw_metrics.txt\n"
     ]
    }
   ],
   "source": [
    "res = accel.throughput_test()\n",
    "file = open(\"nw_metrics.txt\", \"w\")\n",
    "file.write(str(res))\n",
    "file.close()\n",
    "print(\"Results written to nw_metrics.txt\")"
   ]
  },
  {
   "cell_type": "code",
   "execution_count": 11,
   "id": "19523879-c850-4e9f-a377-f20e637c388a",
   "metadata": {},
   "outputs": [
    {
     "name": "stdout",
     "output_type": "stream",
     "text": [
      "runtime[ms]: 2.3360252380371094\n",
      "throughput[images/s]: 428.07756685037765\n",
      "DRAM_in_bandwidth[MB/s]: 64.43765998285365\n",
      "DRAM_out_bandwidth[MB/s]: 0.0008561551337007553\n",
      "fclk[mhz]: 100.0\n",
      "batch_size: 1\n",
      "fold_input[ms]: 0.12540817260742188\n",
      "pack_input[ms]: 0.09608268737792969\n",
      "copy_input_data_to_device[ms]: 2.1517276763916016\n",
      "copy_output_data_from_device[ms]: 0.2760887145996094\n",
      "unpack_output[ms]: 2.8519630432128906\n",
      "unfold_output[ms]: 0.04935264587402344\n"
     ]
    }
   ],
   "source": [
    "for key, value in res.items():\n",
    "    print(f'{key}: {value}')"
   ]
  },
  {
   "cell_type": "markdown",
   "id": "aee0eeee-f881-4cee-920d-bb7b9224bf7a",
   "metadata": {},
   "source": [
    "# Metrics"
   ]
  },
  {
   "cell_type": "code",
   "execution_count": 13,
   "id": "1dd8194c-3546-41a4-b4bf-2a1565537659",
   "metadata": {},
   "outputs": [
    {
     "data": {
      "text/plain": [
       "<module 'my_metrics' from '/home/xilinx/jupyter_notebooks/uav/code/mobilenetv2_resnet/750_FPS/driver/my_metrics.py'>"
      ]
     },
     "execution_count": 13,
     "metadata": {},
     "output_type": "execute_result"
    }
   ],
   "source": [
    "# import importlib\n",
    "# importlib.reload(my_metrics)"
   ]
  },
  {
   "cell_type": "markdown",
   "id": "160eede8-da4a-4c37-9b66-03a7b297b696",
   "metadata": {},
   "source": [
    "### FULL Test Dataset"
   ]
  },
  {
   "cell_type": "code",
   "execution_count": 14,
   "id": "29871f7e-79fa-429e-874f-d4a6015e7f00",
   "metadata": {},
   "outputs": [
    {
     "name": "stdout",
     "output_type": "stream",
     "text": [
      "Number of test samples dfire: 4306\n",
      "\n"
     ]
    },
    {
     "name": "stderr",
     "output_type": "stream",
     "text": [
      "Testing: 100%|██████████| 4306/4306 [07:13<00:00,  9.94it/s]\n"
     ]
    },
    {
     "name": "stdout",
     "output_type": "stream",
     "text": [
      "Number of test samples fasdd_uav: 4181\n",
      "\n"
     ]
    },
    {
     "name": "stderr",
     "output_type": "stream",
     "text": [
      "Testing: 100%|██████████| 4181/4181 [32:02<00:00,  2.18it/s]\n"
     ]
    },
    {
     "name": "stdout",
     "output_type": "stream",
     "text": [
      "Number of test samples fasdd_cv: 15884\n",
      "\n"
     ]
    },
    {
     "name": "stderr",
     "output_type": "stream",
     "text": [
      "Testing: 100%|██████████| 15884/15884 [29:05<00:00,  9.10it/s] \n"
     ]
    },
    {
     "name": "stdout",
     "output_type": "stream",
     "text": [
      "Smoke -> TP: 10763.0, FP: 522.0, TN: 12359.0, FN: 727.0\n",
      "Fire  -> TP: 7759.0, FP: 482.0, TN: 15987.0, FN: 143.0\n"
     ]
    }
   ],
   "source": [
    "metrics_res = my_metrics.eval_accel(\n",
    "    datasets_dict = datasets_dict,\n",
    "    dfire_labels_dir = dfire_labels_folder,\n",
    "    accel = accel\n",
    ")"
   ]
  },
  {
   "cell_type": "code",
   "execution_count": 15,
   "id": "a15b8011-61ad-4881-8f9b-a6ac3ae2e3db",
   "metadata": {},
   "outputs": [
    {
     "data": {
      "text/html": [
       "<div>\n",
       "<style scoped>\n",
       "    .dataframe tbody tr th:only-of-type {\n",
       "        vertical-align: middle;\n",
       "    }\n",
       "\n",
       "    .dataframe tbody tr th {\n",
       "        vertical-align: top;\n",
       "    }\n",
       "\n",
       "    .dataframe thead th {\n",
       "        text-align: right;\n",
       "    }\n",
       "</style>\n",
       "<table border=\"1\" class=\"dataframe\">\n",
       "  <thead>\n",
       "    <tr style=\"text-align: right;\">\n",
       "      <th></th>\n",
       "      <th>Smoke</th>\n",
       "      <th>Fire</th>\n",
       "      <th>Mean</th>\n",
       "    </tr>\n",
       "  </thead>\n",
       "  <tbody>\n",
       "    <tr>\n",
       "      <th>Accuracy</th>\n",
       "      <td>0.9488</td>\n",
       "      <td>0.9744</td>\n",
       "      <td>0.9616</td>\n",
       "    </tr>\n",
       "    <tr>\n",
       "      <th>Precision</th>\n",
       "      <td>0.9537</td>\n",
       "      <td>0.9415</td>\n",
       "      <td>0.9476</td>\n",
       "    </tr>\n",
       "    <tr>\n",
       "      <th>Recall</th>\n",
       "      <td>0.9367</td>\n",
       "      <td>0.9819</td>\n",
       "      <td>0.9593</td>\n",
       "    </tr>\n",
       "    <tr>\n",
       "      <th>F1</th>\n",
       "      <td>0.9452</td>\n",
       "      <td>0.9613</td>\n",
       "      <td>0.9532</td>\n",
       "    </tr>\n",
       "  </tbody>\n",
       "</table>\n",
       "</div>"
      ],
      "text/plain": [
       "            Smoke    Fire    Mean\n",
       "Accuracy   0.9488  0.9744  0.9616\n",
       "Precision  0.9537  0.9415  0.9476\n",
       "Recall     0.9367  0.9819  0.9593\n",
       "F1         0.9452  0.9613  0.9532"
      ]
     },
     "execution_count": 15,
     "metadata": {},
     "output_type": "execute_result"
    }
   ],
   "source": [
    "metrics_df = pd.DataFrame(metrics_res)\n",
    "metrics_df"
   ]
  },
  {
   "cell_type": "code",
   "execution_count": null,
   "id": "c3108300-7b4d-41c1-af2c-54bac3215b42",
   "metadata": {},
   "outputs": [],
   "source": []
  }
 ],
 "metadata": {
  "kernelspec": {
   "display_name": "Python 3 (ipykernel)",
   "language": "python",
   "name": "python3"
  },
  "language_info": {
   "codemirror_mode": {
    "name": "ipython",
    "version": 3
   },
   "file_extension": ".py",
   "mimetype": "text/x-python",
   "name": "python",
   "nbconvert_exporter": "python",
   "pygments_lexer": "ipython3",
   "version": "3.10.4"
  }
 },
 "nbformat": 4,
 "nbformat_minor": 5
}
