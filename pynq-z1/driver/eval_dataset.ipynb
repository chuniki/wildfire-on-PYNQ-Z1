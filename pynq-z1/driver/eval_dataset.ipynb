{
 "cells": [
  {
   "cell_type": "code",
   "execution_count": 1,
   "id": "b56c5d82-a337-44a1-81ee-439df4a14ffe",
   "metadata": {},
   "outputs": [],
   "source": [
    "import driver\n",
    "from pynq.pl_server.device import Device\n",
    "\n",
    "import os\n",
    "import my_metrics\n",
    "import pandas as pd"
   ]
  },
  {
   "cell_type": "markdown",
   "id": "9462a8c6-8dc2-488d-8ce7-b8dd8622db63",
   "metadata": {},
   "source": [
    "# Accelerator"
   ]
  },
  {
   "cell_type": "code",
   "execution_count": 2,
   "id": "f5e2502e-d1d9-4ea5-8aef-2cfede7352e8",
   "metadata": {},
   "outputs": [
    {
     "data": {
      "application/javascript": [
       "\n",
       "try {\n",
       "require(['notebook/js/codecell'], function(codecell) {\n",
       "  codecell.CodeCell.options_default.highlight_modes[\n",
       "      'magic_text/x-csrc'] = {'reg':[/^%%microblaze/]};\n",
       "  Jupyter.notebook.events.one('kernel_ready.Kernel', function(){\n",
       "      Jupyter.notebook.get_cells().map(function(cell){\n",
       "          if (cell.cell_type == 'code'){ cell.auto_highlight(); } }) ;\n",
       "  });\n",
       "});\n",
       "} catch (e) {};\n"
      ]
     },
     "metadata": {},
     "output_type": "display_data"
    },
    {
     "data": {
      "application/javascript": [
       "\n",
       "try {\n",
       "require(['notebook/js/codecell'], function(codecell) {\n",
       "  codecell.CodeCell.options_default.highlight_modes[\n",
       "      'magic_text/x-csrc'] = {'reg':[/^%%pybind11/]};\n",
       "  Jupyter.notebook.events.one('kernel_ready.Kernel', function(){\n",
       "      Jupyter.notebook.get_cells().map(function(cell){\n",
       "          if (cell.cell_type == 'code'){ cell.auto_highlight(); } }) ;\n",
       "  });\n",
       "});\n",
       "} catch (e) {};\n"
      ]
     },
     "metadata": {},
     "output_type": "display_data"
    }
   ],
   "source": [
    "my_device = Device.devices[0]\n",
    "\n",
    "accel = driver.FINNExampleOverlay(\n",
    "    bitfile_name = '../bitfile/finn-accel.bit', \n",
    "    platform = \"zynq-iodma\",\n",
    "    io_shape_dict = driver.io_shape_dict, \n",
    "    batch_size = 1,\n",
    "    runtime_weight_dir = \"runtime_weights/\", \n",
    "    device=my_device\n",
    ")"
   ]
  },
  {
   "cell_type": "markdown",
   "id": "1bbf7bfd-38ea-4704-bbe1-c1a5f129ac5a",
   "metadata": {},
   "source": [
    "# Throughput Test"
   ]
  },
  {
   "cell_type": "code",
   "execution_count": 3,
   "id": "dcbb2be9-86b8-4c68-b100-6b95912ccac6",
   "metadata": {},
   "outputs": [
    {
     "name": "stdout",
     "output_type": "stream",
     "text": [
      "Results written to nw_metrics_eval.txt\n"
     ]
    }
   ],
   "source": [
    "res = accel.throughput_test()\n",
    "file = open(\"nw_metrics_eval.txt\", \"w\")\n",
    "file.write(str(res))\n",
    "file.close()\n",
    "print(\"Results written to nw_metrics_eval.txt\")"
   ]
  },
  {
   "cell_type": "code",
   "execution_count": 4,
   "id": "19523879-c850-4e9f-a377-f20e637c388a",
   "metadata": {},
   "outputs": [
    {
     "name": "stdout",
     "output_type": "stream",
     "text": [
      "runtime[ms]: 2.345561981201172\n",
      "throughput[images/s]: 426.3370603781256\n",
      "DRAM_in_bandwidth[MB/s]: 64.17566502459849\n",
      "DRAM_out_bandwidth[MB/s]: 0.0008526741207562512\n",
      "fclk[mhz]: 100.0\n",
      "batch_size: 1\n",
      "fold_input[ms]: 0.13327598571777344\n",
      "pack_input[ms]: 0.09655952453613281\n",
      "copy_input_data_to_device[ms]: 2.3543834686279297\n",
      "copy_output_data_from_device[ms]: 0.3452301025390625\n",
      "unpack_output[ms]: 2.6178359985351562\n",
      "unfold_output[ms]: 0.0476837158203125\n"
     ]
    }
   ],
   "source": [
    "for key, value in res.items():\n",
    "    print(f'{key}: {value}')"
   ]
  },
  {
   "cell_type": "markdown",
   "id": "3ed26ec5-a69a-4411-b644-f9160c14c033",
   "metadata": {},
   "source": [
    "# Images List and Labels Folder"
   ]
  },
  {
   "cell_type": "markdown",
   "id": "7c5068c8-c4e3-40fd-93d9-bbffbfbb892c",
   "metadata": {},
   "source": [
    "### DFire"
   ]
  },
  {
   "cell_type": "code",
   "execution_count": 5,
   "id": "414a957d-b1f9-4013-b828-be87d668bc79",
   "metadata": {},
   "outputs": [],
   "source": [
    "dfire_imgs_folder = '../../../../datasets/dfire_test/images/'\n",
    "dfire_imgs_list = [dfire_imgs_folder + fname for fname in os.listdir(dfire_imgs_folder) if not fname.startswith('.')] \n",
    "\n",
    "dfire_labels_folder = '../../../../datasets/dfire_test/labels/'"
   ]
  },
  {
   "cell_type": "code",
   "execution_count": 6,
   "id": "e613e5cb-8ecd-4d48-8b83-ad2d7bed8e29",
   "metadata": {},
   "outputs": [
    {
     "name": "stdout",
     "output_type": "stream",
     "text": [
      "DFire Test Dataset Length: 4306\n"
     ]
    }
   ],
   "source": [
    "print(f'DFire Test Dataset Length: {len(dfire_imgs_list)}')"
   ]
  },
  {
   "cell_type": "markdown",
   "id": "fc25d3d6-80c2-4271-88a3-4b16371420c1",
   "metadata": {},
   "source": [
    "### FASDD UAV"
   ]
  },
  {
   "cell_type": "code",
   "execution_count": 7,
   "id": "f9af92de-f8ab-4e4d-82aa-d01284ba301d",
   "metadata": {},
   "outputs": [],
   "source": [
    "fasdd_uav_imgs_folder = '../../../../datasets/fasdd_uav_test/'\n",
    "fasdd_uav_imgs_list = [fasdd_uav_imgs_folder + fname for fname in os.listdir(fasdd_uav_imgs_folder) if not fname.startswith('.')] "
   ]
  },
  {
   "cell_type": "code",
   "execution_count": 8,
   "id": "6ec8ca00-7f81-45ba-92a3-1fea20001876",
   "metadata": {},
   "outputs": [
    {
     "name": "stdout",
     "output_type": "stream",
     "text": [
      "FASDD UAV Test Dataset Length: 4181\n"
     ]
    }
   ],
   "source": [
    "print(f'FASDD UAV Test Dataset Length: {len(fasdd_uav_imgs_list)}')"
   ]
  },
  {
   "cell_type": "markdown",
   "id": "ca78d342-dff3-48a8-aa9a-cb3bab81ab46",
   "metadata": {},
   "source": [
    "### FASDD CV"
   ]
  },
  {
   "cell_type": "code",
   "execution_count": 9,
   "id": "6dacffe0-ec55-4372-a7f2-39a84fa1075d",
   "metadata": {},
   "outputs": [],
   "source": [
    "fasdd_cv_imgs_folder = '../../../../datasets/fasdd_cv_test/'\n",
    "fasdd_cv_imgs_list = [fasdd_cv_imgs_folder + fname for fname in os.listdir(fasdd_cv_imgs_folder) if not fname.startswith('.')] "
   ]
  },
  {
   "cell_type": "code",
   "execution_count": 10,
   "id": "f94193c6-08bd-4a18-834a-367bc9ae0199",
   "metadata": {},
   "outputs": [
    {
     "name": "stdout",
     "output_type": "stream",
     "text": [
      "FASDD CV Test Dataset Length: 15884\n"
     ]
    }
   ],
   "source": [
    "print(f'FASDD CV Test Dataset Length: {len(fasdd_cv_imgs_list)}')"
   ]
  },
  {
   "cell_type": "markdown",
   "id": "e5255e45-465c-416b-afaf-f747af3d5b65",
   "metadata": {},
   "source": [
    "# Dataset Dictionary"
   ]
  },
  {
   "cell_type": "code",
   "execution_count": 20,
   "id": "885c9e1f-68a6-43de-b20e-b5d6b856b1a7",
   "metadata": {},
   "outputs": [],
   "source": [
    "dfire_dict = {\"dfire\": dfire_imgs_list}\n",
    "fasdd_uav_dict = {\"fasdd_uav\": fasdd_uav_imgs_list}\n",
    "fasdd_cv_dict = {\"fasdd_cv\": fasdd_cv_imgs_list}"
   ]
  },
  {
   "cell_type": "code",
   "execution_count": 12,
   "id": "97128150-3902-43c7-802e-e50cb628f61a",
   "metadata": {},
   "outputs": [],
   "source": [
    "full_ds_dict = {\n",
    "    \"dfire\": dfire_imgs_list,\n",
    "    \"fasdd_uav\": fasdd_uav_imgs_list,\n",
    "    \"fasdd_cv\": fasdd_cv_imgs_list,\n",
    "}"
   ]
  },
  {
   "cell_type": "markdown",
   "id": "79bbddf3-232f-466d-862f-9f65371e6b80",
   "metadata": {},
   "source": [
    "# Evaluate Full Dataset and Each Dataset Separately"
   ]
  },
  {
   "cell_type": "markdown",
   "id": "160eede8-da4a-4c37-9b66-03a7b297b696",
   "metadata": {},
   "source": [
    "### FULL Test Dataset"
   ]
  },
  {
   "cell_type": "code",
   "execution_count": 13,
   "id": "29871f7e-79fa-429e-874f-d4a6015e7f00",
   "metadata": {},
   "outputs": [
    {
     "name": "stdout",
     "output_type": "stream",
     "text": [
      "Number of test samples dfire: 4306\n",
      "\n"
     ]
    },
    {
     "name": "stderr",
     "output_type": "stream",
     "text": [
      "Testing: 100%|██████████| 4306/4306 [07:01<00:00, 10.21it/s]\n"
     ]
    },
    {
     "name": "stdout",
     "output_type": "stream",
     "text": [
      "Number of test samples fasdd_uav: 4181\n",
      "\n"
     ]
    },
    {
     "name": "stderr",
     "output_type": "stream",
     "text": [
      "Testing: 100%|██████████| 4181/4181 [31:54<00:00,  2.18it/s]\n"
     ]
    },
    {
     "name": "stdout",
     "output_type": "stream",
     "text": [
      "Number of test samples fasdd_cv: 15884\n",
      "\n"
     ]
    },
    {
     "name": "stderr",
     "output_type": "stream",
     "text": [
      "Testing: 100%|██████████| 15884/15884 [28:42<00:00,  9.22it/s] \n"
     ]
    },
    {
     "name": "stdout",
     "output_type": "stream",
     "text": [
      "Smoke -> TP: 10763.0, FP: 522.0, TN: 12359.0, FN: 727.0\n",
      "Fire  -> TP: 7759.0, FP: 482.0, TN: 15987.0, FN: 143.0\n"
     ]
    }
   ],
   "source": [
    "metrics_res = my_metrics.eval_accel(\n",
    "    accel = accel,\n",
    "    datasets_dict = full_ds_dict,\n",
    "    dfire_labels_dir = dfire_labels_folder,\n",
    ")"
   ]
  },
  {
   "cell_type": "code",
   "execution_count": 14,
   "id": "a15b8011-61ad-4881-8f9b-a6ac3ae2e3db",
   "metadata": {},
   "outputs": [
    {
     "data": {
      "text/html": [
       "<div>\n",
       "<style scoped>\n",
       "    .dataframe tbody tr th:only-of-type {\n",
       "        vertical-align: middle;\n",
       "    }\n",
       "\n",
       "    .dataframe tbody tr th {\n",
       "        vertical-align: top;\n",
       "    }\n",
       "\n",
       "    .dataframe thead th {\n",
       "        text-align: right;\n",
       "    }\n",
       "</style>\n",
       "<table border=\"1\" class=\"dataframe\">\n",
       "  <thead>\n",
       "    <tr style=\"text-align: right;\">\n",
       "      <th></th>\n",
       "      <th>Smoke</th>\n",
       "      <th>Fire</th>\n",
       "      <th>Mean</th>\n",
       "    </tr>\n",
       "  </thead>\n",
       "  <tbody>\n",
       "    <tr>\n",
       "      <th>Accuracy</th>\n",
       "      <td>0.9488</td>\n",
       "      <td>0.9744</td>\n",
       "      <td>0.9616</td>\n",
       "    </tr>\n",
       "    <tr>\n",
       "      <th>Precision</th>\n",
       "      <td>0.9537</td>\n",
       "      <td>0.9415</td>\n",
       "      <td>0.9476</td>\n",
       "    </tr>\n",
       "    <tr>\n",
       "      <th>Recall</th>\n",
       "      <td>0.9367</td>\n",
       "      <td>0.9819</td>\n",
       "      <td>0.9593</td>\n",
       "    </tr>\n",
       "    <tr>\n",
       "      <th>F1</th>\n",
       "      <td>0.9452</td>\n",
       "      <td>0.9613</td>\n",
       "      <td>0.9532</td>\n",
       "    </tr>\n",
       "  </tbody>\n",
       "</table>\n",
       "</div>"
      ],
      "text/plain": [
       "            Smoke    Fire    Mean\n",
       "Accuracy   0.9488  0.9744  0.9616\n",
       "Precision  0.9537  0.9415  0.9476\n",
       "Recall     0.9367  0.9819  0.9593\n",
       "F1         0.9452  0.9613  0.9532"
      ]
     },
     "execution_count": 14,
     "metadata": {},
     "output_type": "execute_result"
    }
   ],
   "source": [
    "metrics_df = pd.DataFrame(metrics_res)\n",
    "metrics_df"
   ]
  },
  {
   "cell_type": "markdown",
   "id": "6cbc0316-a7ba-46b2-80f3-8dc5954db4de",
   "metadata": {},
   "source": [
    "### Only DFire Dataset"
   ]
  },
  {
   "cell_type": "code",
   "execution_count": 15,
   "id": "aaee0982-b691-416d-9809-1100b6aef33a",
   "metadata": {},
   "outputs": [
    {
     "name": "stdout",
     "output_type": "stream",
     "text": [
      "Number of test samples dfire: 4306\n",
      "\n"
     ]
    },
    {
     "name": "stderr",
     "output_type": "stream",
     "text": [
      "Testing: 100%|██████████| 4306/4306 [06:59<00:00, 10.26it/s]"
     ]
    },
    {
     "name": "stdout",
     "output_type": "stream",
     "text": [
      "Smoke -> TP: 1895.0, FP: 152.0, TN: 2073.0, FN: 186.0\n",
      "Fire  -> TP: 1053.0, FP: 62.0, TN: 3129.0, FN: 62.0\n"
     ]
    },
    {
     "name": "stderr",
     "output_type": "stream",
     "text": [
      "\n"
     ]
    }
   ],
   "source": [
    "metrics_res = my_metrics.eval_accel(\n",
    "    accel = accel,\n",
    "    datasets_dict = dfire_dict,\n",
    "    dfire_labels_dir = dfire_labels_folder,\n",
    ")"
   ]
  },
  {
   "cell_type": "code",
   "execution_count": 16,
   "id": "9582804f-1c6e-49f7-afb5-ea97f084a5f0",
   "metadata": {},
   "outputs": [
    {
     "data": {
      "text/html": [
       "<div>\n",
       "<style scoped>\n",
       "    .dataframe tbody tr th:only-of-type {\n",
       "        vertical-align: middle;\n",
       "    }\n",
       "\n",
       "    .dataframe tbody tr th {\n",
       "        vertical-align: top;\n",
       "    }\n",
       "\n",
       "    .dataframe thead th {\n",
       "        text-align: right;\n",
       "    }\n",
       "</style>\n",
       "<table border=\"1\" class=\"dataframe\">\n",
       "  <thead>\n",
       "    <tr style=\"text-align: right;\">\n",
       "      <th></th>\n",
       "      <th>Smoke</th>\n",
       "      <th>Fire</th>\n",
       "      <th>Mean</th>\n",
       "    </tr>\n",
       "  </thead>\n",
       "  <tbody>\n",
       "    <tr>\n",
       "      <th>Accuracy</th>\n",
       "      <td>0.9215</td>\n",
       "      <td>0.9712</td>\n",
       "      <td>0.9464</td>\n",
       "    </tr>\n",
       "    <tr>\n",
       "      <th>Precision</th>\n",
       "      <td>0.9257</td>\n",
       "      <td>0.9444</td>\n",
       "      <td>0.9350</td>\n",
       "    </tr>\n",
       "    <tr>\n",
       "      <th>Recall</th>\n",
       "      <td>0.9106</td>\n",
       "      <td>0.9444</td>\n",
       "      <td>0.9275</td>\n",
       "    </tr>\n",
       "    <tr>\n",
       "      <th>F1</th>\n",
       "      <td>0.9181</td>\n",
       "      <td>0.9444</td>\n",
       "      <td>0.9312</td>\n",
       "    </tr>\n",
       "  </tbody>\n",
       "</table>\n",
       "</div>"
      ],
      "text/plain": [
       "            Smoke    Fire    Mean\n",
       "Accuracy   0.9215  0.9712  0.9464\n",
       "Precision  0.9257  0.9444  0.9350\n",
       "Recall     0.9106  0.9444  0.9275\n",
       "F1         0.9181  0.9444  0.9312"
      ]
     },
     "execution_count": 16,
     "metadata": {},
     "output_type": "execute_result"
    }
   ],
   "source": [
    "metrics_df = pd.DataFrame(metrics_res)\n",
    "metrics_df"
   ]
  },
  {
   "cell_type": "markdown",
   "id": "10b0f493-3e1e-410d-a08c-6765405e0ba5",
   "metadata": {},
   "source": [
    "### Only FASDD UAV"
   ]
  },
  {
   "cell_type": "code",
   "execution_count": 17,
   "id": "2b2a2b9a-1b1c-42ca-b5aa-2aa7fac97e4c",
   "metadata": {},
   "outputs": [
    {
     "name": "stdout",
     "output_type": "stream",
     "text": [
      "Number of test samples fasdd_uav: 4181\n",
      "\n"
     ]
    },
    {
     "name": "stderr",
     "output_type": "stream",
     "text": [
      "Testing: 100%|██████████| 4181/4181 [31:58<00:00,  2.18it/s]"
     ]
    },
    {
     "name": "stdout",
     "output_type": "stream",
     "text": [
      "Smoke -> TP: 2034.0, FP: 7.0, TN: 2025.0, FN: 115.0\n",
      "Fire  -> TP: 1320.0, FP: 36.0, TN: 2807.0, FN: 18.0\n"
     ]
    },
    {
     "name": "stderr",
     "output_type": "stream",
     "text": [
      "\n"
     ]
    }
   ],
   "source": [
    "metrics_res = my_metrics.eval_accel(\n",
    "    accel = accel,\n",
    "    datasets_dict = fasdd_uav_dict,\n",
    ")"
   ]
  },
  {
   "cell_type": "code",
   "execution_count": 18,
   "id": "dbd964b7-ddce-4b8b-979b-75e7bf826ae8",
   "metadata": {},
   "outputs": [
    {
     "data": {
      "text/html": [
       "<div>\n",
       "<style scoped>\n",
       "    .dataframe tbody tr th:only-of-type {\n",
       "        vertical-align: middle;\n",
       "    }\n",
       "\n",
       "    .dataframe tbody tr th {\n",
       "        vertical-align: top;\n",
       "    }\n",
       "\n",
       "    .dataframe thead th {\n",
       "        text-align: right;\n",
       "    }\n",
       "</style>\n",
       "<table border=\"1\" class=\"dataframe\">\n",
       "  <thead>\n",
       "    <tr style=\"text-align: right;\">\n",
       "      <th></th>\n",
       "      <th>Smoke</th>\n",
       "      <th>Fire</th>\n",
       "      <th>Mean</th>\n",
       "    </tr>\n",
       "  </thead>\n",
       "  <tbody>\n",
       "    <tr>\n",
       "      <th>Accuracy</th>\n",
       "      <td>0.9708</td>\n",
       "      <td>0.9871</td>\n",
       "      <td>0.9790</td>\n",
       "    </tr>\n",
       "    <tr>\n",
       "      <th>Precision</th>\n",
       "      <td>0.9966</td>\n",
       "      <td>0.9735</td>\n",
       "      <td>0.9850</td>\n",
       "    </tr>\n",
       "    <tr>\n",
       "      <th>Recall</th>\n",
       "      <td>0.9465</td>\n",
       "      <td>0.9865</td>\n",
       "      <td>0.9665</td>\n",
       "    </tr>\n",
       "    <tr>\n",
       "      <th>F1</th>\n",
       "      <td>0.9709</td>\n",
       "      <td>0.9800</td>\n",
       "      <td>0.9754</td>\n",
       "    </tr>\n",
       "  </tbody>\n",
       "</table>\n",
       "</div>"
      ],
      "text/plain": [
       "            Smoke    Fire    Mean\n",
       "Accuracy   0.9708  0.9871  0.9790\n",
       "Precision  0.9966  0.9735  0.9850\n",
       "Recall     0.9465  0.9865  0.9665\n",
       "F1         0.9709  0.9800  0.9754"
      ]
     },
     "execution_count": 18,
     "metadata": {},
     "output_type": "execute_result"
    }
   ],
   "source": [
    "metrics_df = pd.DataFrame(metrics_res)\n",
    "metrics_df"
   ]
  },
  {
   "cell_type": "markdown",
   "id": "82c2adac-80aa-46c4-83b5-a004d8fe727e",
   "metadata": {},
   "source": [
    "### Only FASDD CV"
   ]
  },
  {
   "cell_type": "code",
   "execution_count": 21,
   "id": "526ab0d9-ef5c-4240-92d7-49b51bc2f89d",
   "metadata": {},
   "outputs": [
    {
     "name": "stdout",
     "output_type": "stream",
     "text": [
      "Number of test samples fasdd_cv: 15884\n",
      "\n"
     ]
    },
    {
     "name": "stderr",
     "output_type": "stream",
     "text": [
      "Testing: 100%|██████████| 15884/15884 [28:49<00:00,  9.18it/s] \n"
     ]
    },
    {
     "name": "stdout",
     "output_type": "stream",
     "text": [
      "Smoke -> TP: 6834.0, FP: 363.0, TN: 8261.0, FN: 426.0\n",
      "Fire  -> TP: 5386.0, FP: 384.0, TN: 10051.0, FN: 63.0\n"
     ]
    }
   ],
   "source": [
    "metrics_res = my_metrics.eval_accel(\n",
    "    accel = accel,\n",
    "    datasets_dict = fasdd_cv_dict,\n",
    ")"
   ]
  },
  {
   "cell_type": "code",
   "execution_count": 22,
   "id": "470e0e20-9167-4d3e-a7ff-63d30520063e",
   "metadata": {},
   "outputs": [
    {
     "data": {
      "text/html": [
       "<div>\n",
       "<style scoped>\n",
       "    .dataframe tbody tr th:only-of-type {\n",
       "        vertical-align: middle;\n",
       "    }\n",
       "\n",
       "    .dataframe tbody tr th {\n",
       "        vertical-align: top;\n",
       "    }\n",
       "\n",
       "    .dataframe thead th {\n",
       "        text-align: right;\n",
       "    }\n",
       "</style>\n",
       "<table border=\"1\" class=\"dataframe\">\n",
       "  <thead>\n",
       "    <tr style=\"text-align: right;\">\n",
       "      <th></th>\n",
       "      <th>Smoke</th>\n",
       "      <th>Fire</th>\n",
       "      <th>Mean</th>\n",
       "    </tr>\n",
       "  </thead>\n",
       "  <tbody>\n",
       "    <tr>\n",
       "      <th>Accuracy</th>\n",
       "      <td>0.9503</td>\n",
       "      <td>0.9719</td>\n",
       "      <td>0.9611</td>\n",
       "    </tr>\n",
       "    <tr>\n",
       "      <th>Precision</th>\n",
       "      <td>0.9496</td>\n",
       "      <td>0.9334</td>\n",
       "      <td>0.9415</td>\n",
       "    </tr>\n",
       "    <tr>\n",
       "      <th>Recall</th>\n",
       "      <td>0.9413</td>\n",
       "      <td>0.9884</td>\n",
       "      <td>0.9648</td>\n",
       "    </tr>\n",
       "    <tr>\n",
       "      <th>F1</th>\n",
       "      <td>0.9454</td>\n",
       "      <td>0.9602</td>\n",
       "      <td>0.9528</td>\n",
       "    </tr>\n",
       "  </tbody>\n",
       "</table>\n",
       "</div>"
      ],
      "text/plain": [
       "            Smoke    Fire    Mean\n",
       "Accuracy   0.9503  0.9719  0.9611\n",
       "Precision  0.9496  0.9334  0.9415\n",
       "Recall     0.9413  0.9884  0.9648\n",
       "F1         0.9454  0.9602  0.9528"
      ]
     },
     "execution_count": 22,
     "metadata": {},
     "output_type": "execute_result"
    }
   ],
   "source": [
    "metrics_df = pd.DataFrame(metrics_res)\n",
    "metrics_df"
   ]
  },
  {
   "cell_type": "code",
   "execution_count": null,
   "id": "adeb6f46-39e0-40e5-9dfe-9c9df2d2b17a",
   "metadata": {},
   "outputs": [],
   "source": []
  }
 ],
 "metadata": {
  "kernelspec": {
   "display_name": "Python 3 (ipykernel)",
   "language": "python",
   "name": "python3"
  },
  "language_info": {
   "codemirror_mode": {
    "name": "ipython",
    "version": 3
   },
   "file_extension": ".py",
   "mimetype": "text/x-python",
   "name": "python",
   "nbconvert_exporter": "python",
   "pygments_lexer": "ipython3",
   "version": "3.10.4"
  }
 },
 "nbformat": 4,
 "nbformat_minor": 5
}
